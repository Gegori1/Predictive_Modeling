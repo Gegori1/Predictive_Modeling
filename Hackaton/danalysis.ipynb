{
 "cells": [
  {
   "cell_type": "markdown",
   "metadata": {},
   "source": [
    "### Import libraries"
   ]
  },
  {
   "cell_type": "code",
   "execution_count": 2,
   "metadata": {},
   "outputs": [],
   "source": [
    "import os\n",
    "\n",
    "import pandas as pd\n",
    "import numpy as np\n",
    "\n",
    "import matplotlib.pyplot as plt\n",
    "import seaborn as sns\n",
    "\n",
    "from sklearn.cross_decomposition import PLSRegression\n",
    "from sklearn.linear_model import LinearRegression"
   ]
  },
  {
   "cell_type": "code",
   "execution_count": 3,
   "metadata": {},
   "outputs": [
    {
     "data": {
      "text/plain": [
       "['Audit_test_.csv', 'Audit_train_.csv', 'Audit_unknown_.csv']"
      ]
     },
     "execution_count": 3,
     "metadata": {},
     "output_type": "execute_result"
    }
   ],
   "source": [
    "os.listdir('data')"
   ]
  },
  {
   "cell_type": "code",
   "execution_count": 4,
   "metadata": {},
   "outputs": [],
   "source": [
    "data_train = pd.read_csv('data/Audit_train_.csv', index_col=0)\n",
    "data_test = pd.read_csv('data/Audit_test_.csv', index_col=0)\n",
    "data_unknown = pd.read_csv('data/Audit_unknown_.csv', index_col=0)"
   ]
  },
  {
   "cell_type": "markdown",
   "metadata": {},
   "source": [
    "### Data exploration"
   ]
  },
  {
   "cell_type": "code",
   "execution_count": 5,
   "metadata": {},
   "outputs": [
    {
     "data": {
      "text/html": [
       "<div>\n",
       "<style scoped>\n",
       "    .dataframe tbody tr th:only-of-type {\n",
       "        vertical-align: middle;\n",
       "    }\n",
       "\n",
       "    .dataframe tbody tr th {\n",
       "        vertical-align: top;\n",
       "    }\n",
       "\n",
       "    .dataframe thead th {\n",
       "        text-align: right;\n",
       "    }\n",
       "</style>\n",
       "<table border=\"1\" class=\"dataframe\">\n",
       "  <thead>\n",
       "    <tr style=\"text-align: right;\">\n",
       "      <th></th>\n",
       "      <th>Sector_score</th>\n",
       "      <th>PARA_A</th>\n",
       "      <th>Score_A</th>\n",
       "      <th>Risk_A</th>\n",
       "      <th>PARA_B</th>\n",
       "      <th>Score_B</th>\n",
       "      <th>Risk_B</th>\n",
       "      <th>TOTAL</th>\n",
       "      <th>numbers</th>\n",
       "      <th>Score_B.1</th>\n",
       "      <th>...</th>\n",
       "      <th>PROB</th>\n",
       "      <th>RiSk_E</th>\n",
       "      <th>History</th>\n",
       "      <th>Prob</th>\n",
       "      <th>Risk_F</th>\n",
       "      <th>Score</th>\n",
       "      <th>Inherent_Risk</th>\n",
       "      <th>CONTROL_RISK</th>\n",
       "      <th>Detection_Risk</th>\n",
       "      <th>Audit_Risk</th>\n",
       "    </tr>\n",
       "  </thead>\n",
       "  <tbody>\n",
       "    <tr>\n",
       "      <th>0</th>\n",
       "      <td>3.89</td>\n",
       "      <td>1.99</td>\n",
       "      <td>0.4</td>\n",
       "      <td>0.796</td>\n",
       "      <td>10.24</td>\n",
       "      <td>0.6</td>\n",
       "      <td>6.144</td>\n",
       "      <td>12.23</td>\n",
       "      <td>5.0</td>\n",
       "      <td>0.2</td>\n",
       "      <td>...</td>\n",
       "      <td>0.2</td>\n",
       "      <td>0.4</td>\n",
       "      <td>0</td>\n",
       "      <td>0.2</td>\n",
       "      <td>0.0</td>\n",
       "      <td>3.8</td>\n",
       "      <td>20.808</td>\n",
       "      <td>0.4</td>\n",
       "      <td>0.5</td>\n",
       "      <td>4.1616</td>\n",
       "    </tr>\n",
       "    <tr>\n",
       "      <th>1</th>\n",
       "      <td>2.37</td>\n",
       "      <td>1.86</td>\n",
       "      <td>0.4</td>\n",
       "      <td>0.744</td>\n",
       "      <td>4.51</td>\n",
       "      <td>0.6</td>\n",
       "      <td>2.706</td>\n",
       "      <td>6.37</td>\n",
       "      <td>5.0</td>\n",
       "      <td>0.2</td>\n",
       "      <td>...</td>\n",
       "      <td>0.2</td>\n",
       "      <td>0.4</td>\n",
       "      <td>0</td>\n",
       "      <td>0.2</td>\n",
       "      <td>0.0</td>\n",
       "      <td>3.6</td>\n",
       "      <td>7.758</td>\n",
       "      <td>0.4</td>\n",
       "      <td>0.5</td>\n",
       "      <td>1.5516</td>\n",
       "    </tr>\n",
       "    <tr>\n",
       "      <th>2</th>\n",
       "      <td>55.57</td>\n",
       "      <td>0.70</td>\n",
       "      <td>0.2</td>\n",
       "      <td>0.140</td>\n",
       "      <td>0.79</td>\n",
       "      <td>0.2</td>\n",
       "      <td>0.158</td>\n",
       "      <td>1.49</td>\n",
       "      <td>5.5</td>\n",
       "      <td>0.4</td>\n",
       "      <td>...</td>\n",
       "      <td>0.2</td>\n",
       "      <td>0.4</td>\n",
       "      <td>0</td>\n",
       "      <td>0.2</td>\n",
       "      <td>0.0</td>\n",
       "      <td>2.4</td>\n",
       "      <td>3.280</td>\n",
       "      <td>0.4</td>\n",
       "      <td>0.5</td>\n",
       "      <td>0.6560</td>\n",
       "    </tr>\n",
       "    <tr>\n",
       "      <th>3</th>\n",
       "      <td>55.57</td>\n",
       "      <td>0.00</td>\n",
       "      <td>0.2</td>\n",
       "      <td>0.000</td>\n",
       "      <td>0.00</td>\n",
       "      <td>0.2</td>\n",
       "      <td>0.000</td>\n",
       "      <td>0.00</td>\n",
       "      <td>5.0</td>\n",
       "      <td>0.2</td>\n",
       "      <td>...</td>\n",
       "      <td>0.2</td>\n",
       "      <td>0.4</td>\n",
       "      <td>0</td>\n",
       "      <td>0.2</td>\n",
       "      <td>0.0</td>\n",
       "      <td>2.0</td>\n",
       "      <td>1.404</td>\n",
       "      <td>0.4</td>\n",
       "      <td>0.5</td>\n",
       "      <td>0.2808</td>\n",
       "    </tr>\n",
       "    <tr>\n",
       "      <th>4</th>\n",
       "      <td>21.61</td>\n",
       "      <td>0.29</td>\n",
       "      <td>0.2</td>\n",
       "      <td>0.058</td>\n",
       "      <td>0.33</td>\n",
       "      <td>0.2</td>\n",
       "      <td>0.066</td>\n",
       "      <td>0.62</td>\n",
       "      <td>5.0</td>\n",
       "      <td>0.2</td>\n",
       "      <td>...</td>\n",
       "      <td>0.2</td>\n",
       "      <td>0.4</td>\n",
       "      <td>0</td>\n",
       "      <td>0.2</td>\n",
       "      <td>0.0</td>\n",
       "      <td>2.0</td>\n",
       "      <td>1.524</td>\n",
       "      <td>0.4</td>\n",
       "      <td>0.5</td>\n",
       "      <td>0.3048</td>\n",
       "    </tr>\n",
       "  </tbody>\n",
       "</table>\n",
       "<p>5 rows × 25 columns</p>\n",
       "</div>"
      ],
      "text/plain": [
       "   Sector_score  PARA_A  Score_A  Risk_A  PARA_B  Score_B  Risk_B  TOTAL  \\\n",
       "0          3.89    1.99      0.4   0.796   10.24      0.6   6.144  12.23   \n",
       "1          2.37    1.86      0.4   0.744    4.51      0.6   2.706   6.37   \n",
       "2         55.57    0.70      0.2   0.140    0.79      0.2   0.158   1.49   \n",
       "3         55.57    0.00      0.2   0.000    0.00      0.2   0.000   0.00   \n",
       "4         21.61    0.29      0.2   0.058    0.33      0.2   0.066   0.62   \n",
       "\n",
       "   numbers  Score_B.1  ...  PROB  RiSk_E  History  Prob  Risk_F  Score  \\\n",
       "0      5.0        0.2  ...   0.2     0.4        0   0.2     0.0    3.8   \n",
       "1      5.0        0.2  ...   0.2     0.4        0   0.2     0.0    3.6   \n",
       "2      5.5        0.4  ...   0.2     0.4        0   0.2     0.0    2.4   \n",
       "3      5.0        0.2  ...   0.2     0.4        0   0.2     0.0    2.0   \n",
       "4      5.0        0.2  ...   0.2     0.4        0   0.2     0.0    2.0   \n",
       "\n",
       "   Inherent_Risk  CONTROL_RISK  Detection_Risk  Audit_Risk  \n",
       "0         20.808           0.4             0.5      4.1616  \n",
       "1          7.758           0.4             0.5      1.5516  \n",
       "2          3.280           0.4             0.5      0.6560  \n",
       "3          1.404           0.4             0.5      0.2808  \n",
       "4          1.524           0.4             0.5      0.3048  \n",
       "\n",
       "[5 rows x 25 columns]"
      ]
     },
     "execution_count": 5,
     "metadata": {},
     "output_type": "execute_result"
    }
   ],
   "source": [
    "data_train.head()"
   ]
  },
  {
   "cell_type": "code",
   "execution_count": 6,
   "metadata": {},
   "outputs": [
    {
     "name": "stdout",
     "output_type": "stream",
     "text": [
      "<class 'pandas.core.frame.DataFrame'>\n",
      "Index: 201 entries, 0 to 200\n",
      "Data columns (total 25 columns):\n",
      " #   Column          Non-Null Count  Dtype  \n",
      "---  ------          --------------  -----  \n",
      " 0   Sector_score    201 non-null    float64\n",
      " 1   PARA_A          201 non-null    float64\n",
      " 2   Score_A         201 non-null    float64\n",
      " 3   Risk_A          201 non-null    float64\n",
      " 4   PARA_B          201 non-null    float64\n",
      " 5   Score_B         201 non-null    float64\n",
      " 6   Risk_B          201 non-null    float64\n",
      " 7   TOTAL           201 non-null    float64\n",
      " 8   numbers         201 non-null    float64\n",
      " 9   Score_B.1       201 non-null    float64\n",
      " 10  Risk_C          201 non-null    float64\n",
      " 11  Money_Value     201 non-null    float64\n",
      " 12  Score_MV        201 non-null    float64\n",
      " 13  Risk_D          201 non-null    float64\n",
      " 14  District_Loss   201 non-null    int64  \n",
      " 15  PROB            201 non-null    float64\n",
      " 16  RiSk_E          201 non-null    float64\n",
      " 17  History         201 non-null    int64  \n",
      " 18  Prob            201 non-null    float64\n",
      " 19  Risk_F          201 non-null    float64\n",
      " 20  Score           201 non-null    float64\n",
      " 21  Inherent_Risk   201 non-null    float64\n",
      " 22  CONTROL_RISK    201 non-null    float64\n",
      " 23  Detection_Risk  201 non-null    float64\n",
      " 24  Audit_Risk      201 non-null    float64\n",
      "dtypes: float64(23), int64(2)\n",
      "memory usage: 40.8 KB\n"
     ]
    }
   ],
   "source": [
    "data_train.info()"
   ]
  },
  {
   "cell_type": "code",
   "execution_count": 11,
   "metadata": {},
   "outputs": [
    {
     "data": {
      "text/plain": [
       "Index(['Sector_score', 'PARA_A', 'Score_A', 'Risk_A', 'PARA_B', 'Score_B',\n",
       "       'Risk_B', 'TOTAL', 'numbers', 'Score_B.1', 'Risk_C', 'Money_Value',\n",
       "       'Score_MV', 'Risk_D', 'District_Loss', 'PROB', 'RiSk_E', 'History',\n",
       "       'Prob', 'Risk_F', 'Score', 'Inherent_Risk', 'CONTROL_RISK',\n",
       "       'Detection_Risk', 'Audit_Risk'],\n",
       "      dtype='object')"
      ]
     },
     "execution_count": 11,
     "metadata": {},
     "output_type": "execute_result"
    }
   ],
   "source": [
    "data_train.columns"
   ]
  },
  {
   "cell_type": "code",
   "execution_count": null,
   "metadata": {},
   "outputs": [],
   "source": [
    "# All variable look like they are numerical.\n",
    "# Detection_Risk is a constant, so we can drop it.\n",
    "\n",
    "# There are many variables that look like they are skewed.\n",
    "# Some of them have a lot of outliers."
   ]
  },
  {
   "cell_type": "code",
   "execution_count": null,
   "metadata": {},
   "outputs": [],
   "source": [
    "# Check distribution on Y\n",
    "# If Y is not normally distributed, we can try to remove outliers from X\n",
    "# transform variables to make them more nornally disributed\n",
    "# standarize variables\n",
    "# Check pearson correlation between variables"
   ]
  },
  {
   "cell_type": "code",
   "execution_count": 12,
   "metadata": {},
   "outputs": [
    {
     "data": {
      "text/plain": [
       "Index(['Sector_score', 'PARA_A', 'Score_A', 'Risk_A', 'PARA_B', 'Score_B',\n",
       "       'Risk_B', 'TOTAL', 'numbers', 'Score_B.1', 'Risk_C', 'Money_Value',\n",
       "       'Score_MV', 'Risk_D', 'District_Loss', 'PROB', 'RiSk_E', 'History',\n",
       "       'Prob', 'Risk_F', 'Score', 'Inherent_Risk', 'CONTROL_RISK',\n",
       "       'Detection_Risk', 'Audit_Risk'],\n",
       "      dtype='object')"
      ]
     },
     "execution_count": 12,
     "metadata": {},
     "output_type": "execute_result"
    }
   ],
   "source": [
    "data_train.columns"
   ]
  },
  {
   "cell_type": "code",
   "execution_count": 43,
   "metadata": {},
   "outputs": [
    {
     "data": {
      "text/html": [
       "<div>\n",
       "<style scoped>\n",
       "    .dataframe tbody tr th:only-of-type {\n",
       "        vertical-align: middle;\n",
       "    }\n",
       "\n",
       "    .dataframe tbody tr th {\n",
       "        vertical-align: top;\n",
       "    }\n",
       "\n",
       "    .dataframe thead th {\n",
       "        text-align: right;\n",
       "    }\n",
       "</style>\n",
       "<table border=\"1\" class=\"dataframe\">\n",
       "  <thead>\n",
       "    <tr style=\"text-align: right;\">\n",
       "      <th></th>\n",
       "      <th>Sector_score</th>\n",
       "      <th>PARA_A</th>\n",
       "      <th>Score_A</th>\n",
       "      <th>Risk_A</th>\n",
       "      <th>PARA_B</th>\n",
       "      <th>Score_B</th>\n",
       "      <th>Risk_B</th>\n",
       "      <th>TOTAL</th>\n",
       "      <th>numbers</th>\n",
       "      <th>Score_B.1</th>\n",
       "      <th>...</th>\n",
       "      <th>PROB</th>\n",
       "      <th>RiSk_E</th>\n",
       "      <th>History</th>\n",
       "      <th>Prob</th>\n",
       "      <th>Risk_F</th>\n",
       "      <th>Score</th>\n",
       "      <th>Inherent_Risk</th>\n",
       "      <th>CONTROL_RISK</th>\n",
       "      <th>Detection_Risk</th>\n",
       "      <th>Audit_Risk</th>\n",
       "    </tr>\n",
       "  </thead>\n",
       "  <tbody>\n",
       "    <tr>\n",
       "      <th>235</th>\n",
       "      <td>2.37</td>\n",
       "      <td>17.53</td>\n",
       "      <td>0.6</td>\n",
       "      <td>10.518</td>\n",
       "      <td>0.00</td>\n",
       "      <td>0.2</td>\n",
       "      <td>0.000</td>\n",
       "      <td>17.53</td>\n",
       "      <td>6.5</td>\n",
       "      <td>0.6</td>\n",
       "      <td>...</td>\n",
       "      <td>0.2</td>\n",
       "      <td>1.2</td>\n",
       "      <td>4</td>\n",
       "      <td>0.6</td>\n",
       "      <td>2.4</td>\n",
       "      <td>4.4</td>\n",
       "      <td>74.868</td>\n",
       "      <td>3.6</td>\n",
       "      <td>0.5</td>\n",
       "      <td>134.7624</td>\n",
       "    </tr>\n",
       "    <tr>\n",
       "      <th>254</th>\n",
       "      <td>15.56</td>\n",
       "      <td>20.65</td>\n",
       "      <td>0.6</td>\n",
       "      <td>12.390</td>\n",
       "      <td>0.00</td>\n",
       "      <td>0.2</td>\n",
       "      <td>0.000</td>\n",
       "      <td>0.00</td>\n",
       "      <td>6.0</td>\n",
       "      <td>0.6</td>\n",
       "      <td>...</td>\n",
       "      <td>0.2</td>\n",
       "      <td>1.2</td>\n",
       "      <td>1</td>\n",
       "      <td>0.4</td>\n",
       "      <td>0.4</td>\n",
       "      <td>4.2</td>\n",
       "      <td>255.976</td>\n",
       "      <td>1.6</td>\n",
       "      <td>0.5</td>\n",
       "      <td>204.7808</td>\n",
       "    </tr>\n",
       "    <tr>\n",
       "      <th>283</th>\n",
       "      <td>3.89</td>\n",
       "      <td>10.00</td>\n",
       "      <td>0.6</td>\n",
       "      <td>6.000</td>\n",
       "      <td>74.26</td>\n",
       "      <td>0.6</td>\n",
       "      <td>44.556</td>\n",
       "      <td>84.26</td>\n",
       "      <td>5.5</td>\n",
       "      <td>0.4</td>\n",
       "      <td>...</td>\n",
       "      <td>0.2</td>\n",
       "      <td>0.4</td>\n",
       "      <td>3</td>\n",
       "      <td>0.6</td>\n",
       "      <td>1.8</td>\n",
       "      <td>4.8</td>\n",
       "      <td>61.652</td>\n",
       "      <td>2.2</td>\n",
       "      <td>0.5</td>\n",
       "      <td>67.8172</td>\n",
       "    </tr>\n",
       "    <tr>\n",
       "      <th>293</th>\n",
       "      <td>3.89</td>\n",
       "      <td>71.48</td>\n",
       "      <td>0.6</td>\n",
       "      <td>42.888</td>\n",
       "      <td>25.63</td>\n",
       "      <td>0.6</td>\n",
       "      <td>15.378</td>\n",
       "      <td>97.11</td>\n",
       "      <td>5.0</td>\n",
       "      <td>0.2</td>\n",
       "      <td>...</td>\n",
       "      <td>0.2</td>\n",
       "      <td>0.4</td>\n",
       "      <td>0</td>\n",
       "      <td>0.2</td>\n",
       "      <td>0.0</td>\n",
       "      <td>4.0</td>\n",
       "      <td>583.688</td>\n",
       "      <td>0.4</td>\n",
       "      <td>0.5</td>\n",
       "      <td>116.7376</td>\n",
       "    </tr>\n",
       "  </tbody>\n",
       "</table>\n",
       "<p>4 rows × 25 columns</p>\n",
       "</div>"
      ],
      "text/plain": [
       "     Sector_score  PARA_A  Score_A  Risk_A  PARA_B  Score_B  Risk_B  TOTAL  \\\n",
       "235          2.37   17.53      0.6  10.518    0.00      0.2   0.000  17.53   \n",
       "254         15.56   20.65      0.6  12.390    0.00      0.2   0.000   0.00   \n",
       "283          3.89   10.00      0.6   6.000   74.26      0.6  44.556  84.26   \n",
       "293          3.89   71.48      0.6  42.888   25.63      0.6  15.378  97.11   \n",
       "\n",
       "     numbers  Score_B.1  ...  PROB  RiSk_E  History  Prob  Risk_F  Score  \\\n",
       "235      6.5        0.6  ...   0.2     1.2        4   0.6     2.4    4.4   \n",
       "254      6.0        0.6  ...   0.2     1.2        1   0.4     0.4    4.2   \n",
       "283      5.5        0.4  ...   0.2     0.4        3   0.6     1.8    4.8   \n",
       "293      5.0        0.2  ...   0.2     0.4        0   0.2     0.0    4.0   \n",
       "\n",
       "     Inherent_Risk  CONTROL_RISK  Detection_Risk  Audit_Risk  \n",
       "235         74.868           3.6             0.5    134.7624  \n",
       "254        255.976           1.6             0.5    204.7808  \n",
       "283         61.652           2.2             0.5     67.8172  \n",
       "293        583.688           0.4             0.5    116.7376  \n",
       "\n",
       "[4 rows x 25 columns]"
      ]
     },
     "execution_count": 43,
     "metadata": {},
     "output_type": "execute_result"
    }
   ],
   "source": [
    "data_test.query(\"Audit_Risk > 60\")"
   ]
  },
  {
   "cell_type": "code",
   "execution_count": 42,
   "metadata": {},
   "outputs": [
    {
     "data": {
      "text/html": [
       "<div>\n",
       "<style scoped>\n",
       "    .dataframe tbody tr th:only-of-type {\n",
       "        vertical-align: middle;\n",
       "    }\n",
       "\n",
       "    .dataframe tbody tr th {\n",
       "        vertical-align: top;\n",
       "    }\n",
       "\n",
       "    .dataframe thead th {\n",
       "        text-align: right;\n",
       "    }\n",
       "</style>\n",
       "<table border=\"1\" class=\"dataframe\">\n",
       "  <thead>\n",
       "    <tr style=\"text-align: right;\">\n",
       "      <th></th>\n",
       "      <th>Sector_score</th>\n",
       "      <th>PARA_A</th>\n",
       "      <th>Score_A</th>\n",
       "      <th>Risk_A</th>\n",
       "      <th>PARA_B</th>\n",
       "      <th>Score_B</th>\n",
       "      <th>Risk_B</th>\n",
       "      <th>TOTAL</th>\n",
       "      <th>numbers</th>\n",
       "      <th>Score_B.1</th>\n",
       "      <th>...</th>\n",
       "      <th>PROB</th>\n",
       "      <th>RiSk_E</th>\n",
       "      <th>History</th>\n",
       "      <th>Prob</th>\n",
       "      <th>Risk_F</th>\n",
       "      <th>Score</th>\n",
       "      <th>Inherent_Risk</th>\n",
       "      <th>CONTROL_RISK</th>\n",
       "      <th>Detection_Risk</th>\n",
       "      <th>Audit_Risk</th>\n",
       "    </tr>\n",
       "  </thead>\n",
       "  <tbody>\n",
       "    <tr>\n",
       "      <th>62</th>\n",
       "      <td>3.89</td>\n",
       "      <td>7.97</td>\n",
       "      <td>0.6</td>\n",
       "      <td>4.782</td>\n",
       "      <td>17.18</td>\n",
       "      <td>0.6</td>\n",
       "      <td>10.308</td>\n",
       "      <td>25.15</td>\n",
       "      <td>5.0</td>\n",
       "      <td>0.2</td>\n",
       "      <td>...</td>\n",
       "      <td>0.2</td>\n",
       "      <td>0.4</td>\n",
       "      <td>0</td>\n",
       "      <td>0.2</td>\n",
       "      <td>0.0</td>\n",
       "      <td>4.0</td>\n",
       "      <td>577.508</td>\n",
       "      <td>0.4</td>\n",
       "      <td>0.5</td>\n",
       "      <td>115.5016</td>\n",
       "    </tr>\n",
       "    <tr>\n",
       "      <th>78</th>\n",
       "      <td>2.72</td>\n",
       "      <td>4.28</td>\n",
       "      <td>0.6</td>\n",
       "      <td>2.568</td>\n",
       "      <td>1264.63</td>\n",
       "      <td>0.6</td>\n",
       "      <td>758.778</td>\n",
       "      <td>1268.91</td>\n",
       "      <td>5.5</td>\n",
       "      <td>0.4</td>\n",
       "      <td>...</td>\n",
       "      <td>0.2</td>\n",
       "      <td>1.2</td>\n",
       "      <td>2</td>\n",
       "      <td>0.6</td>\n",
       "      <td>1.2</td>\n",
       "      <td>5.2</td>\n",
       "      <td>801.262</td>\n",
       "      <td>2.4</td>\n",
       "      <td>0.5</td>\n",
       "      <td>961.5144</td>\n",
       "    </tr>\n",
       "    <tr>\n",
       "      <th>179</th>\n",
       "      <td>1.99</td>\n",
       "      <td>57.03</td>\n",
       "      <td>0.6</td>\n",
       "      <td>34.218</td>\n",
       "      <td>134.33</td>\n",
       "      <td>0.6</td>\n",
       "      <td>80.598</td>\n",
       "      <td>191.36</td>\n",
       "      <td>5.0</td>\n",
       "      <td>0.2</td>\n",
       "      <td>...</td>\n",
       "      <td>0.2</td>\n",
       "      <td>0.4</td>\n",
       "      <td>0</td>\n",
       "      <td>0.2</td>\n",
       "      <td>0.0</td>\n",
       "      <td>4.0</td>\n",
       "      <td>622.838</td>\n",
       "      <td>0.4</td>\n",
       "      <td>0.5</td>\n",
       "      <td>124.5676</td>\n",
       "    </tr>\n",
       "  </tbody>\n",
       "</table>\n",
       "<p>3 rows × 25 columns</p>\n",
       "</div>"
      ],
      "text/plain": [
       "     Sector_score  PARA_A  Score_A  Risk_A   PARA_B  Score_B   Risk_B  \\\n",
       "62           3.89    7.97      0.6   4.782    17.18      0.6   10.308   \n",
       "78           2.72    4.28      0.6   2.568  1264.63      0.6  758.778   \n",
       "179          1.99   57.03      0.6  34.218   134.33      0.6   80.598   \n",
       "\n",
       "       TOTAL  numbers  Score_B.1  ...  PROB  RiSk_E  History  Prob  Risk_F  \\\n",
       "62     25.15      5.0        0.2  ...   0.2     0.4        0   0.2     0.0   \n",
       "78   1268.91      5.5        0.4  ...   0.2     1.2        2   0.6     1.2   \n",
       "179   191.36      5.0        0.2  ...   0.2     0.4        0   0.2     0.0   \n",
       "\n",
       "     Score  Inherent_Risk  CONTROL_RISK  Detection_Risk  Audit_Risk  \n",
       "62     4.0        577.508           0.4             0.5    115.5016  \n",
       "78     5.2        801.262           2.4             0.5    961.5144  \n",
       "179    4.0        622.838           0.4             0.5    124.5676  \n",
       "\n",
       "[3 rows x 25 columns]"
      ]
     },
     "execution_count": 42,
     "metadata": {},
     "output_type": "execute_result"
    }
   ],
   "source": [
    "data_train.query(\"Audit_Risk > 60\")"
   ]
  },
  {
   "cell_type": "code",
   "execution_count": 55,
   "metadata": {},
   "outputs": [
    {
     "data": {
      "text/html": [
       "<div>\n",
       "<style scoped>\n",
       "    .dataframe tbody tr th:only-of-type {\n",
       "        vertical-align: middle;\n",
       "    }\n",
       "\n",
       "    .dataframe tbody tr th {\n",
       "        vertical-align: top;\n",
       "    }\n",
       "\n",
       "    .dataframe thead th {\n",
       "        text-align: right;\n",
       "    }\n",
       "</style>\n",
       "<table border=\"1\" class=\"dataframe\">\n",
       "  <thead>\n",
       "    <tr style=\"text-align: right;\">\n",
       "      <th></th>\n",
       "      <th>Sector_score</th>\n",
       "      <th>PARA_A</th>\n",
       "      <th>Score_A</th>\n",
       "      <th>Risk_A</th>\n",
       "      <th>PARA_B</th>\n",
       "      <th>Score_B</th>\n",
       "      <th>Risk_B</th>\n",
       "      <th>TOTAL</th>\n",
       "      <th>numbers</th>\n",
       "      <th>Score_B.1</th>\n",
       "      <th>...</th>\n",
       "      <th>PROB</th>\n",
       "      <th>RiSk_E</th>\n",
       "      <th>History</th>\n",
       "      <th>Prob</th>\n",
       "      <th>Risk_F</th>\n",
       "      <th>Score</th>\n",
       "      <th>Inherent_Risk</th>\n",
       "      <th>CONTROL_RISK</th>\n",
       "      <th>Detection_Risk</th>\n",
       "      <th>Audit_Risk</th>\n",
       "    </tr>\n",
       "  </thead>\n",
       "  <tbody>\n",
       "    <tr>\n",
       "      <th>293</th>\n",
       "      <td>3.89</td>\n",
       "      <td>71.48</td>\n",
       "      <td>0.6</td>\n",
       "      <td>42.888</td>\n",
       "      <td>25.63</td>\n",
       "      <td>0.6</td>\n",
       "      <td>15.378</td>\n",
       "      <td>97.11</td>\n",
       "      <td>5.0</td>\n",
       "      <td>0.2</td>\n",
       "      <td>...</td>\n",
       "      <td>0.2</td>\n",
       "      <td>0.4</td>\n",
       "      <td>0</td>\n",
       "      <td>0.2</td>\n",
       "      <td>0.0</td>\n",
       "      <td>4.0</td>\n",
       "      <td>583.688</td>\n",
       "      <td>0.4</td>\n",
       "      <td>0.5</td>\n",
       "      <td>116.7376</td>\n",
       "    </tr>\n",
       "  </tbody>\n",
       "</table>\n",
       "<p>1 rows × 25 columns</p>\n",
       "</div>"
      ],
      "text/plain": [
       "     Sector_score  PARA_A  Score_A  Risk_A  PARA_B  Score_B  Risk_B  TOTAL  \\\n",
       "293          3.89   71.48      0.6  42.888   25.63      0.6  15.378  97.11   \n",
       "\n",
       "     numbers  Score_B.1  ...  PROB  RiSk_E  History  Prob  Risk_F  Score  \\\n",
       "293      5.0        0.2  ...   0.2     0.4        0   0.2     0.0    4.0   \n",
       "\n",
       "     Inherent_Risk  CONTROL_RISK  Detection_Risk  Audit_Risk  \n",
       "293        583.688           0.4             0.5    116.7376  \n",
       "\n",
       "[1 rows x 25 columns]"
      ]
     },
     "execution_count": 55,
     "metadata": {},
     "output_type": "execute_result"
    }
   ],
   "source": [
    "data_test.query(\"Inherent_Risk > 500\")"
   ]
  },
  {
   "cell_type": "code",
   "execution_count": 29,
   "metadata": {},
   "outputs": [],
   "source": [
    "from scipy.stats import zscore"
   ]
  },
  {
   "cell_type": "code",
   "execution_count": 40,
   "metadata": {},
   "outputs": [
    {
     "data": {
      "text/html": [
       "<div>\n",
       "<style scoped>\n",
       "    .dataframe tbody tr th:only-of-type {\n",
       "        vertical-align: middle;\n",
       "    }\n",
       "\n",
       "    .dataframe tbody tr th {\n",
       "        vertical-align: top;\n",
       "    }\n",
       "\n",
       "    .dataframe thead th {\n",
       "        text-align: right;\n",
       "    }\n",
       "</style>\n",
       "<table border=\"1\" class=\"dataframe\">\n",
       "  <thead>\n",
       "    <tr style=\"text-align: right;\">\n",
       "      <th></th>\n",
       "      <th>Audit_Risk</th>\n",
       "    </tr>\n",
       "  </thead>\n",
       "  <tbody>\n",
       "    <tr>\n",
       "      <th>78</th>\n",
       "      <td>13.825934</td>\n",
       "    </tr>\n",
       "  </tbody>\n",
       "</table>\n",
       "</div>"
      ],
      "text/plain": [
       "    Audit_Risk\n",
       "78   13.825934"
      ]
     },
     "execution_count": 40,
     "metadata": {},
     "output_type": "execute_result"
    }
   ],
   "source": [
    "# get the z-score of Audit_Risk for each row in the dataframe\n",
    "data_train[['Audit_Risk']].pipe(zscore).abs().query('Audit_Risk > 2')"
   ]
  },
  {
   "cell_type": "code",
   "execution_count": 39,
   "metadata": {},
   "outputs": [
    {
     "data": {
      "text/html": [
       "<div>\n",
       "<style scoped>\n",
       "    .dataframe tbody tr th:only-of-type {\n",
       "        vertical-align: middle;\n",
       "    }\n",
       "\n",
       "    .dataframe tbody tr th {\n",
       "        vertical-align: top;\n",
       "    }\n",
       "\n",
       "    .dataframe thead th {\n",
       "        text-align: right;\n",
       "    }\n",
       "</style>\n",
       "<table border=\"1\" class=\"dataframe\">\n",
       "  <thead>\n",
       "    <tr style=\"text-align: right;\">\n",
       "      <th></th>\n",
       "      <th>Audit_Risk</th>\n",
       "    </tr>\n",
       "  </thead>\n",
       "  <tbody>\n",
       "    <tr>\n",
       "      <th>235</th>\n",
       "      <td>4.561281</td>\n",
       "    </tr>\n",
       "    <tr>\n",
       "      <th>254</th>\n",
       "      <td>7.092847</td>\n",
       "    </tr>\n",
       "    <tr>\n",
       "      <th>293</th>\n",
       "      <td>3.909582</td>\n",
       "    </tr>\n",
       "  </tbody>\n",
       "</table>\n",
       "</div>"
      ],
      "text/plain": [
       "     Audit_Risk\n",
       "235    4.561281\n",
       "254    7.092847\n",
       "293    3.909582"
      ]
     },
     "execution_count": 39,
     "metadata": {},
     "output_type": "execute_result"
    }
   ],
   "source": [
    "data_test[['Audit_Risk']].pipe(zscore).abs().query('Audit_Risk > 3')"
   ]
  },
  {
   "cell_type": "code",
   "execution_count": 89,
   "metadata": {},
   "outputs": [
    {
     "data": {
      "text/html": [
       "<div>\n",
       "<style scoped>\n",
       "    .dataframe tbody tr th:only-of-type {\n",
       "        vertical-align: middle;\n",
       "    }\n",
       "\n",
       "    .dataframe tbody tr th {\n",
       "        vertical-align: top;\n",
       "    }\n",
       "\n",
       "    .dataframe thead th {\n",
       "        text-align: right;\n",
       "    }\n",
       "</style>\n",
       "<table border=\"1\" class=\"dataframe\">\n",
       "  <thead>\n",
       "    <tr style=\"text-align: right;\">\n",
       "      <th></th>\n",
       "      <th>Sector_score</th>\n",
       "      <th>PARA_A</th>\n",
       "      <th>Score_A</th>\n",
       "      <th>Risk_A</th>\n",
       "      <th>PARA_B</th>\n",
       "      <th>Score_B</th>\n",
       "      <th>Risk_B</th>\n",
       "      <th>TOTAL</th>\n",
       "      <th>numbers</th>\n",
       "      <th>Score_B.1</th>\n",
       "      <th>...</th>\n",
       "      <th>PROB</th>\n",
       "      <th>RiSk_E</th>\n",
       "      <th>History</th>\n",
       "      <th>Prob</th>\n",
       "      <th>Risk_F</th>\n",
       "      <th>Score</th>\n",
       "      <th>Inherent_Risk</th>\n",
       "      <th>CONTROL_RISK</th>\n",
       "      <th>Detection_Risk</th>\n",
       "      <th>Audit_Risk</th>\n",
       "    </tr>\n",
       "  </thead>\n",
       "  <tbody>\n",
       "    <tr>\n",
       "      <th>62</th>\n",
       "      <td>3.89</td>\n",
       "      <td>7.97</td>\n",
       "      <td>0.6</td>\n",
       "      <td>4.782</td>\n",
       "      <td>17.18</td>\n",
       "      <td>0.6</td>\n",
       "      <td>10.308</td>\n",
       "      <td>25.15</td>\n",
       "      <td>5.0</td>\n",
       "      <td>0.2</td>\n",
       "      <td>...</td>\n",
       "      <td>0.2</td>\n",
       "      <td>0.4</td>\n",
       "      <td>0</td>\n",
       "      <td>0.2</td>\n",
       "      <td>0.0</td>\n",
       "      <td>4.0</td>\n",
       "      <td>577.508</td>\n",
       "      <td>0.4</td>\n",
       "      <td>0.5</td>\n",
       "      <td>115.5016</td>\n",
       "    </tr>\n",
       "    <tr>\n",
       "      <th>78</th>\n",
       "      <td>2.72</td>\n",
       "      <td>4.28</td>\n",
       "      <td>0.6</td>\n",
       "      <td>2.568</td>\n",
       "      <td>1264.63</td>\n",
       "      <td>0.6</td>\n",
       "      <td>758.778</td>\n",
       "      <td>1268.91</td>\n",
       "      <td>5.5</td>\n",
       "      <td>0.4</td>\n",
       "      <td>...</td>\n",
       "      <td>0.2</td>\n",
       "      <td>1.2</td>\n",
       "      <td>2</td>\n",
       "      <td>0.6</td>\n",
       "      <td>1.2</td>\n",
       "      <td>5.2</td>\n",
       "      <td>801.262</td>\n",
       "      <td>2.4</td>\n",
       "      <td>0.5</td>\n",
       "      <td>961.5144</td>\n",
       "    </tr>\n",
       "    <tr>\n",
       "      <th>179</th>\n",
       "      <td>1.99</td>\n",
       "      <td>57.03</td>\n",
       "      <td>0.6</td>\n",
       "      <td>34.218</td>\n",
       "      <td>134.33</td>\n",
       "      <td>0.6</td>\n",
       "      <td>80.598</td>\n",
       "      <td>191.36</td>\n",
       "      <td>5.0</td>\n",
       "      <td>0.2</td>\n",
       "      <td>...</td>\n",
       "      <td>0.2</td>\n",
       "      <td>0.4</td>\n",
       "      <td>0</td>\n",
       "      <td>0.2</td>\n",
       "      <td>0.0</td>\n",
       "      <td>4.0</td>\n",
       "      <td>622.838</td>\n",
       "      <td>0.4</td>\n",
       "      <td>0.5</td>\n",
       "      <td>124.5676</td>\n",
       "    </tr>\n",
       "  </tbody>\n",
       "</table>\n",
       "<p>3 rows × 25 columns</p>\n",
       "</div>"
      ],
      "text/plain": [
       "     Sector_score  PARA_A  Score_A  Risk_A   PARA_B  Score_B   Risk_B  \\\n",
       "62           3.89    7.97      0.6   4.782    17.18      0.6   10.308   \n",
       "78           2.72    4.28      0.6   2.568  1264.63      0.6  758.778   \n",
       "179          1.99   57.03      0.6  34.218   134.33      0.6   80.598   \n",
       "\n",
       "       TOTAL  numbers  Score_B.1  ...  PROB  RiSk_E  History  Prob  Risk_F  \\\n",
       "62     25.15      5.0        0.2  ...   0.2     0.4        0   0.2     0.0   \n",
       "78   1268.91      5.5        0.4  ...   0.2     1.2        2   0.6     1.2   \n",
       "179   191.36      5.0        0.2  ...   0.2     0.4        0   0.2     0.0   \n",
       "\n",
       "     Score  Inherent_Risk  CONTROL_RISK  Detection_Risk  Audit_Risk  \n",
       "62     4.0        577.508           0.4             0.5    115.5016  \n",
       "78     5.2        801.262           2.4             0.5    961.5144  \n",
       "179    4.0        622.838           0.4             0.5    124.5676  \n",
       "\n",
       "[3 rows x 25 columns]"
      ]
     },
     "execution_count": 89,
     "metadata": {},
     "output_type": "execute_result"
    }
   ],
   "source": [
    "data_train.query(\"Audit_Risk > 60\")"
   ]
  },
  {
   "cell_type": "markdown",
   "metadata": {},
   "source": [
    "### Try to predict far outliers"
   ]
  },
  {
   "cell_type": "code",
   "execution_count": 302,
   "metadata": {},
   "outputs": [],
   "source": [
    "from sklearn.linear_model import LogisticRegression\n",
    "from sklearn.preprocessing import StandardScaler"
   ]
  },
  {
   "cell_type": "code",
   "execution_count": 303,
   "metadata": {},
   "outputs": [],
   "source": [
    "# columns = [\"PARA_B\", \"Inherent_Risk\", \"Audit_Risk\"]\n",
    "# columns = [\"Inherent_Risk\", \"Audit_Risk\"]\n",
    "# columns = [\"PARA_B\", \"Audit_Risk\"]\n",
    "columns = [\"PARA_B\", \"Risk_B\", \"TOTAL\", \"Prob\", \"Inherent_Risk\", \"Audit_Risk\"]"
   ]
  },
  {
   "cell_type": "code",
   "execution_count": 445,
   "metadata": {},
   "outputs": [],
   "source": [
    "data_train_clean = (\n",
    "    data_train\n",
    "    [columns]\n",
    "    .query('Audit_Risk < 60')\n",
    "    # .assign(PARAB_2 = lambda x: x['PARA_B']**2)\n",
    "    # .apply(np.log1p)\n",
    "    .assign(\n",
    "        PARA_B = lambda x: x['PARA_B'].apply(np.log1p),\n",
    "        Inherent_Risk = lambda x: x['Inherent_Risk'].apply(np.log1p),\n",
    "        # Audit_Risk = lambda x: x['Audit_Risk'].apply(np.log),\n",
    "    )\n",
    "\n",
    ")\n",
    "data_test_clean = (\n",
    "    data_test\n",
    "    [columns]\n",
    "    .query('Audit_Risk < 60')\n",
    "    # .assign(PARAB_2 = lambda x: x['PARA_B']**2)\n",
    "    # .apply(np.log1p)\n",
    "    .assign(\n",
    "        PARA_B = lambda x: x['PARA_B'].apply(np.log1p),\n",
    "        Inherent_Risk = lambda x: x['Inherent_Risk'].apply(np.log1p),\n",
    "        # Audit_Risk = lambda x: x['Audit_Risk'].apply(np.log),\n",
    "    )\n",
    ")"
   ]
  },
  {
   "cell_type": "code",
   "execution_count": 454,
   "metadata": {},
   "outputs": [],
   "source": [
    "# create a function to scale the data. As input it takes the training data, the test data and the columns to scale\n",
    "def scale_data(train, test, columns):\n",
    "    # create a scaler object\n",
    "    scaler = StandardScaler()\n",
    "    # fit the scaler to the training data\n",
    "    if not isinstance(columns, list):\n",
    "        columns = [columns]\n",
    "    # transform both the train and the test data\n",
    "    train_scaled = train.copy()\n",
    "    test_scaled = test.copy()\n",
    "    for col in columns:\n",
    "        train_scaled[col] = scaler.fit_transform(train[[col]])\n",
    "        test_scaled[col] = scaler.transform(test[[col]])\n",
    "    return train_scaled, test_scaled"
   ]
  },
  {
   "cell_type": "code",
   "execution_count": 455,
   "metadata": {},
   "outputs": [],
   "source": [
    "# data_train_clean, data_test_clean = scale_data(data_train_clean, data_test_clean, [\"PARA_B\", \"Inherent_Risk\"])"
   ]
  },
  {
   "cell_type": "code",
   "execution_count": 456,
   "metadata": {},
   "outputs": [
    {
     "data": {
      "text/html": [
       "<style type=\"text/css\">\n",
       "#T_ae87e_row0_col0, #T_ae87e_row1_col1, #T_ae87e_row2_col2 {\n",
       "  background-color: #b40426;\n",
       "  color: #f1f1f1;\n",
       "}\n",
       "#T_ae87e_row0_col1 {\n",
       "  background-color: #c1d4f4;\n",
       "  color: #000000;\n",
       "}\n",
       "#T_ae87e_row0_col2, #T_ae87e_row2_col0, #T_ae87e_row2_col1 {\n",
       "  background-color: #3b4cc0;\n",
       "  color: #f1f1f1;\n",
       "}\n",
       "#T_ae87e_row1_col0 {\n",
       "  background-color: #f5c0a7;\n",
       "  color: #000000;\n",
       "}\n",
       "#T_ae87e_row1_col2 {\n",
       "  background-color: #bfd3f6;\n",
       "  color: #000000;\n",
       "}\n",
       "</style>\n",
       "<table id=\"T_ae87e\">\n",
       "  <thead>\n",
       "    <tr>\n",
       "      <th class=\"blank level0\" >&nbsp;</th>\n",
       "      <th id=\"T_ae87e_level0_col0\" class=\"col_heading level0 col0\" >PARA_B</th>\n",
       "      <th id=\"T_ae87e_level0_col1\" class=\"col_heading level0 col1\" >Inherent_Risk</th>\n",
       "      <th id=\"T_ae87e_level0_col2\" class=\"col_heading level0 col2\" >Audit_Risk</th>\n",
       "    </tr>\n",
       "  </thead>\n",
       "  <tbody>\n",
       "    <tr>\n",
       "      <th id=\"T_ae87e_level0_row0\" class=\"row_heading level0 row0\" >PARA_B</th>\n",
       "      <td id=\"T_ae87e_row0_col0\" class=\"data row0 col0\" >1.000000</td>\n",
       "      <td id=\"T_ae87e_row0_col1\" class=\"data row0 col1\" >0.867016</td>\n",
       "      <td id=\"T_ae87e_row0_col2\" class=\"data row0 col2\" >0.631105</td>\n",
       "    </tr>\n",
       "    <tr>\n",
       "      <th id=\"T_ae87e_level0_row1\" class=\"row_heading level0 row1\" >Inherent_Risk</th>\n",
       "      <td id=\"T_ae87e_row1_col0\" class=\"data row1 col0\" >0.867016</td>\n",
       "      <td id=\"T_ae87e_row1_col1\" class=\"data row1 col1\" >1.000000</td>\n",
       "      <td id=\"T_ae87e_row1_col2\" class=\"data row1 col2\" >0.776949</td>\n",
       "    </tr>\n",
       "    <tr>\n",
       "      <th id=\"T_ae87e_level0_row2\" class=\"row_heading level0 row2\" >Audit_Risk</th>\n",
       "      <td id=\"T_ae87e_row2_col0\" class=\"data row2 col0\" >0.631105</td>\n",
       "      <td id=\"T_ae87e_row2_col1\" class=\"data row2 col1\" >0.776949</td>\n",
       "      <td id=\"T_ae87e_row2_col2\" class=\"data row2 col2\" >1.000000</td>\n",
       "    </tr>\n",
       "  </tbody>\n",
       "</table>\n"
      ],
      "text/plain": [
       "<pandas.io.formats.style.Styler at 0x201d1a1fee0>"
      ]
     },
     "execution_count": 456,
     "metadata": {},
     "output_type": "execute_result"
    }
   ],
   "source": [
    "data_train_clean.corr().abs().style.background_gradient(cmap='coolwarm')"
   ]
  },
  {
   "cell_type": "code",
   "execution_count": 449,
   "metadata": {},
   "outputs": [],
   "source": [
    "# data_unknown.Audit_Risk.min()"
   ]
  },
  {
   "cell_type": "code",
   "execution_count": 457,
   "metadata": {},
   "outputs": [
    {
     "data": {
      "image/png": "[encoded data removed]",
      "text/plain": [
       "<Figure size 360x360 with 6 Axes>"
      ]
     },
     "metadata": {
      "needs_background": "light"
     },
     "output_type": "display_data"
    }
   ],
   "source": [
    "sns.pairplot(data_train_clean, vars=['PARA_B', 'Audit_Risk'], diag_kind='kde');"
   ]
  },
  {
   "cell_type": "code",
   "execution_count": 458,
   "metadata": {},
   "outputs": [
    {
     "data": {
      "image/png": "[encoded data removed]",
      "text/plain": [
       "<Figure size 360x360 with 6 Axes>"
      ]
     },
     "metadata": {
      "needs_background": "light"
     },
     "output_type": "display_data"
    }
   ],
   "source": [
    "sns.pairplot(data_train_clean, vars=['Inherent_Risk', 'Audit_Risk'], diag_kind='kde');"
   ]
  },
  {
   "cell_type": "code",
   "execution_count": 459,
   "metadata": {},
   "outputs": [
    {
     "data": {
      "text/plain": [
       "PARA_B          -0.727559\n",
       "Inherent_Risk   -0.791471\n",
       "Audit_Risk       0.280000\n",
       "dtype: float64"
      ]
     },
     "execution_count": 459,
     "metadata": {},
     "output_type": "execute_result"
    }
   ],
   "source": [
    "data_test_clean.min()"
   ]
  },
  {
   "cell_type": "code",
   "execution_count": 460,
   "metadata": {},
   "outputs": [
    {
     "data": {
      "text/plain": [
       "PARA_B          -0.727559\n",
       "Inherent_Risk   -0.791471\n",
       "Audit_Risk       0.280000\n",
       "dtype: float64"
      ]
     },
     "execution_count": 460,
     "metadata": {},
     "output_type": "execute_result"
    }
   ],
   "source": [
    "data_train_clean.min()"
   ]
  },
  {
   "cell_type": "code",
   "execution_count": 461,
   "metadata": {},
   "outputs": [
    {
     "data": {
      "text/plain": [
       "0.791831153743922"
      ]
     },
     "execution_count": 461,
     "metadata": {},
     "output_type": "execute_result"
    }
   ],
   "source": [
    "model_rl = (\n",
    "    LinearRegression()\n",
    "    .fit(\n",
    "        data_train_clean.drop(\"Audit_Risk\", axis=1),\n",
    "        data_train_clean['Audit_Risk']\n",
    "    )\n",
    "    # .score(\n",
    "    #     data_test_clean.drop(\"Audit_Risk\", axis=1),\n",
    "    #     data_test_clean['Audit_Risk']\n",
    "    # )\n",
    ")\n",
    "\n",
    "y_pred = model_rl.predict(data_test_clean.drop(\"Audit_Risk\", axis=1))\n",
    "\n",
    "y_pred = np.exp(y_pred) - 1\n",
    "\n",
    "plt.plot(y_pred, y_pred - data_test_clean['Audit_Risk'], 'o')\n",
    "# plt.plot(y_pred, data_test_clean['Audit_Risk'], 'o')\n",
    "\n",
    "# rmse\n",
    "np.sqrt(np.mean((y_pred - data_test_clean['Audit_Risk'])**2))\n",
    "#r2\n",
    "1 - np.sum((y_pred - data_test_clean['Audit_Risk'])**2) / np.sum((data_test_clean['Audit_Risk'] - data_test_clean['Audit_Risk'].mean())**2)\n",
    "\n",
    "# model_rl.score(data_test_clean.drop('Audit_Risk', axis=1), data_test_clean['Audit_Risk'])"
   ]
  },
  {
   "cell_type": "code",
   "execution_count": 371,
   "metadata": {},
   "outputs": [],
   "source": [
    "# data_train_clean = data_train[columns].assign(long = np.where(data_train['Audit_Risk'] > 60, 1, 0)).drop(\"Audit_Risk\", axis=1)\n",
    "# data_test_clean = data_test[columns].assign(long = np.where(data_test['Audit_Risk'] > 60, 1, 0)).drop(\"Audit_Risk\", axis=1)"
   ]
  },
  {
   "cell_type": "code",
   "execution_count": 372,
   "metadata": {},
   "outputs": [],
   "source": [
    "# model_lr = LogisticRegression(max_iter=1000).fit(data_train_clean.drop(['long'], axis=1), data_train_clean.long)\n",
    "\n",
    "# y_pred = model_lr.predict(data_test_clean.drop(['long'], axis=1))\n",
    "\n",
    "# from sklearn.metrics import confusion_matrix\n",
    "\n",
    "# confusion_matrix(data_test_clean.long, y_pred)"
   ]
  },
  {
   "cell_type": "code",
   "execution_count": 115,
   "metadata": {},
   "outputs": [
    {
     "data": {
      "text/html": [
       "<div>\n",
       "<style scoped>\n",
       "    .dataframe tbody tr th:only-of-type {\n",
       "        vertical-align: middle;\n",
       "    }\n",
       "\n",
       "    .dataframe tbody tr th {\n",
       "        vertical-align: top;\n",
       "    }\n",
       "\n",
       "    .dataframe thead th {\n",
       "        text-align: right;\n",
       "    }\n",
       "</style>\n",
       "<table border=\"1\" class=\"dataframe\">\n",
       "  <thead>\n",
       "    <tr style=\"text-align: right;\">\n",
       "      <th></th>\n",
       "      <th>PARA_B</th>\n",
       "      <th>Inherent_Risk</th>\n",
       "      <th>long</th>\n",
       "      <th>y_pred</th>\n",
       "    </tr>\n",
       "  </thead>\n",
       "  <tbody>\n",
       "    <tr>\n",
       "      <th>293</th>\n",
       "      <td>25.63</td>\n",
       "      <td>583.688</td>\n",
       "      <td>1</td>\n",
       "      <td>1</td>\n",
       "    </tr>\n",
       "  </tbody>\n",
       "</table>\n",
       "</div>"
      ],
      "text/plain": [
       "     PARA_B  Inherent_Risk  long  y_pred\n",
       "293   25.63        583.688     1       1"
      ]
     },
     "execution_count": 115,
     "metadata": {},
     "output_type": "execute_result"
    }
   ],
   "source": [
    "data_test_clean.assign(y_pred = y_pred).query(\"y_pred == 1\")"
   ]
  },
  {
   "cell_type": "code",
   "execution_count": null,
   "metadata": {},
   "outputs": [],
   "source": [
    "data_train.corr().abs().sort_values('Audit_Risk', ascending=False).style.background_gradient(cmap='coolwarm')"
   ]
  },
  {
   "cell_type": "code",
   "execution_count": 462,
   "metadata": {},
   "outputs": [],
   "source": [
    "# columns = [\"PARA_B\", \"Inherent_Risk\", \"Audit_Risk\"]\n",
    "# columns = [\"PARA_B\", \"Risk_B\", \"TOTAL\", \"Prob\", \"Inherent_Risk\", \"Audit_Risk\"]"
   ]
  },
  {
   "cell_type": "markdown",
   "metadata": {},
   "source": [
    "### PLS"
   ]
  },
  {
   "cell_type": "code",
   "execution_count": 785,
   "metadata": {},
   "outputs": [],
   "source": [
    "# create a function to scale the data. As input it takes the training data, the test data and the columns to scale\n",
    "def scale_data(train, test, unknown, columns):\n",
    "    # create a scaler object\n",
    "    scaler = StandardScaler()\n",
    "    # fit the scaler to the training data\n",
    "    if not isinstance(columns, list):\n",
    "        columns = [columns]\n",
    "    # transform both the train and the test data\n",
    "    train_scaled = train.copy()\n",
    "    test_scaled = test.copy()\n",
    "    unknown_scaled = unknown.copy()\n",
    "    for col in columns:\n",
    "        train_scaled[col] = scaler.fit_transform(train[[col]])\n",
    "        test_scaled[col] = scaler.transform(test[[col]])\n",
    "        unknown_scaled[col] = scaler.transform(unknown[[col]])\n",
    "    return train_scaled, test_scaled, unknown_scaled"
   ]
  },
  {
   "cell_type": "code",
   "execution_count": 786,
   "metadata": {},
   "outputs": [],
   "source": [
    "columns = [\n",
    "           \"PARA_B\", \n",
    "           \"Inherent_Risk\", \n",
    "           \"Audit_Risk\"\n",
    "           ]\n",
    "columns_nw = [\"PARA_B\", \"Inherent_Risk\"]"
   ]
  },
  {
   "cell_type": "code",
   "execution_count": 804,
   "metadata": {},
   "outputs": [],
   "source": [
    "data_train_clean = (\n",
    "    data_train\n",
    "    [columns]\n",
    "    .query('Audit_Risk < 60')\n",
    "    # .assign(PARAB_2 = lambda x: x['PARA_B']**2)\n",
    "    .apply(np.log1p)\n",
    "    # .assign(\n",
    "        # PARA_B = lambda x: x['PARA_B'].apply(np.log1p),\n",
    "        # Inherent_Risk = lambda x: x['Inherent_Risk'].apply(np.log1p),\n",
    "        # Audit_Risk = lambda x: x['Audit_Risk'].apply(np.log),\n",
    "    # )\n",
    "\n",
    ")\n",
    "data_test_clean = (\n",
    "    data_test\n",
    "    [columns]\n",
    "    .query('Audit_Risk < 60')\n",
    "    # .assign(PARAB_2 = lambda x: x['PARA_B']**2)\n",
    "    # .apply(np.log1p)\n",
    "    .assign(\n",
    "        # Risk_B = lambda x: x['Risk_B'].apply(np.log1p),\n",
    "        # TOTAL = lambda x: x['TOTAL'].apply(np.log1p),\n",
    "        # Prob = lambda x: x['Prob'].apply(np.log1p),\n",
    "        PARA_B = lambda x: x['PARA_B'].apply(np.log1p),\n",
    "        Inherent_Risk = lambda x: x['Inherent_Risk'].apply(np.log1p),\n",
    "        # Audit_Risk = lambda x: x['Audit_Risk'].apply(np.log),\n",
    "    )\n",
    ")\n",
    "\n",
    "data_unknown_clean = (\n",
    "    data_unknown\n",
    "    [columns_nw]\n",
    "    .assign(\n",
    "        PARA_B = lambda x: x['PARA_B'].apply(np.log1p),\n",
    "        Inherent_Risk = lambda x: x['Inherent_Risk'].apply(np.log1p),\n",
    "    )\n",
    ")"
   ]
  },
  {
   "cell_type": "code",
   "execution_count": 805,
   "metadata": {},
   "outputs": [],
   "source": [
    "data_train_clean_2, data_test_clean_2, data_unknown_clean_2 = scale_data(\n",
    "    data_train_clean, data_test_clean, data_unknown_clean,\n",
    "    [\n",
    "        \"PARA_B\", \n",
    "        # \"Risk_B\", \n",
    "        # \"TOTAL\", \n",
    "        # \"Prob\", \n",
    "        \"Inherent_Risk\"\n",
    "    ]\n",
    ")"
   ]
  },
  {
   "cell_type": "code",
   "execution_count": 806,
   "metadata": {},
   "outputs": [
    {
     "data": {
      "text/plain": [
       "PARA_B           2.733230\n",
       "Inherent_Risk    2.595409\n",
       "Audit_Risk       3.970518\n",
       "dtype: float64"
      ]
     },
     "execution_count": 806,
     "metadata": {},
     "output_type": "execute_result"
    }
   ],
   "source": [
    "data_train_clean.max()"
   ]
  },
  {
   "cell_type": "code",
   "execution_count": 807,
   "metadata": {},
   "outputs": [
    {
     "data": {
      "text/plain": [
       "PARA_B            2.677822\n",
       "Inherent_Risk     2.629292\n",
       "Audit_Risk       34.929600\n",
       "dtype: float64"
      ]
     },
     "execution_count": 807,
     "metadata": {},
     "output_type": "execute_result"
    }
   ],
   "source": [
    "data_test_clean.max()"
   ]
  },
  {
   "cell_type": "code",
   "execution_count": 809,
   "metadata": {},
   "outputs": [
    {
     "data": {
      "text/plain": [
       "PARA_B           2.719978\n",
       "Inherent_Risk    2.192701\n",
       "dtype: float64"
      ]
     },
     "execution_count": 809,
     "metadata": {},
     "output_type": "execute_result"
    }
   ],
   "source": [
    "data_unknown_clean_2.max()"
   ]
  },
  {
   "cell_type": "code",
   "execution_count": 810,
   "metadata": {},
   "outputs": [
    {
     "name": "stdout",
     "output_type": "stream",
     "text": [
      "3.0930578746823585\n",
      "0.8212540914981729\n"
     ]
    },
    {
     "data": {
      "image/png": "[encoded data removed]",
      "text/plain": [
       "<Figure size 432x288 with 1 Axes>"
      ]
     },
     "metadata": {
      "needs_background": "light"
     },
     "output_type": "display_data"
    }
   ],
   "source": [
    "model_pls = (\n",
    "    PLSRegression(n_components=2)\n",
    "    .fit(\n",
    "        data_train_clean.drop(\"Audit_Risk\", axis=1),\n",
    "        data_train_clean['Audit_Risk']\n",
    "    )\n",
    ")\n",
    "\n",
    "X_twisted = model_pls.transform(data_test_clean.drop(\"Audit_Risk\", axis=1))\n",
    "X_twisted_train = model_pls.transform(data_train_clean.drop(\"Audit_Risk\", axis=1))\n",
    "\n",
    "y_pred = model_pls.predict(data_test_clean.drop(\"Audit_Risk\", axis=1)).flatten()\n",
    "\n",
    "\n",
    "y_pred = np.exp(y_pred) - 1\n",
    "\n",
    "plt.plot(y_pred, y_pred - data_test_clean['Audit_Risk'], 'o')\n",
    "\n",
    "# rmse\n",
    "print(np.sqrt(np.mean((y_pred - data_test_clean['Audit_Risk'])**2))\n",
    ")\n",
    "# r2\n",
    "print(1 - np.sum((y_pred - data_test_clean['Audit_Risk'])**2) / np.sum((data_test_clean['Audit_Risk'] - data_test_clean['Audit_Risk'].mean())**2))\n",
    "\n",
    "# model_pls.score(data_test_clean.drop('Audit_Risk', axis=1), data_test_clean['Audit_Risk'])"
   ]
  },
  {
   "cell_type": "markdown",
   "metadata": {},
   "source": [
    "### New prediction"
   ]
  },
  {
   "cell_type": "code",
   "execution_count": 811,
   "metadata": {},
   "outputs": [],
   "source": [
    "y_predict_new = model_pls.predict(data_unknown_clean_2).flatten()\n",
    "\n",
    "y_predict_new = np.exp(y_predict_new) - 1"
   ]
  },
  {
   "cell_type": "code",
   "execution_count": 839,
   "metadata": {},
   "outputs": [
    {
     "data": {
      "text/plain": [
       "array([[<Axes: title={'center': 'PARA_B'}>,\n",
       "        <Axes: title={'center': 'Inherent_Risk'}>],\n",
       "       [<Axes: title={'center': 'Audit_Risk'}>, <Axes: >]], dtype=object)"
      ]
     },
     "execution_count": 839,
     "metadata": {},
     "output_type": "execute_result"
    },
    {
     "data": {
      "image/png": "[encoded data removed]",
      "text/plain": [
       "<Figure size 432x288 with 4 Axes>"
      ]
     },
     "metadata": {
      "needs_background": "light"
     },
     "output_type": "display_data"
    }
   ],
   "source": [
    "data_unknown.assign(Audit_Risk = y_predict_new)[columns].hist()"
   ]
  },
  {
   "cell_type": "code",
   "execution_count": 843,
   "metadata": {},
   "outputs": [
    {
     "data": {
      "application/vnd.plotly.v1+json": {
       "config": {
        "plotlyServerURL": "https://plot.ly"
       },
       "data": [
        {
         "hovertemplate": "PARA_B=%{x}<br>Inherent_Risk=%{y}<br>Audit_Risk=%{marker.color}<extra></extra>",
         "legendgroup": "",
         "marker": {
          "color": [
           0.22900389069975224,
           8.666019590182865,
           3.8596628169924863,
           0.4454218521914417,
           0.2980797309863257,
           0.48736883839822465,
           0.4240182327569719,
           0.5934905865214857,
           0.5363307671599278,
           0.24498998701729202,
           0.24498998701729202,
           2.1742614891249135,
           18.174366889345084,
           0.31664597457327304,
           0.28628216136844054,
           12.808579282519837,
           2.2851084310918384,
           0.2981772910280682,
           0.6720241520041379,
           0.4697818968257381,
           0.2626953782757522,
           0.23370758373366685,
           0.45688698760534274,
           0.30594827283320325,
           0.43083895719246845,
           2.439782966708367,
           0.3471110842504981,
           9.255852246815452,
           5.4594556827413,
           10.608143263789632,
           0.28464462644299093,
           2.329074860651301,
           0.22900389069975224,
           0.22900389069975224,
           5.365219591064316,
           6.98119628427804,
           0.22900389069975224,
           0.5041933831917076,
           0.3670720656819517,
           0.22900389069975224,
           2.6503697476042096,
           0.5215645588724316,
           2.975186123861023,
           0.4827424888702121,
           0.4512491791800797,
           1.3673541346927625,
           0.4512491791800797,
           0.2947137300023701,
           0.9505354775086137,
           0.3035830593408857,
           0.28628216136844054
          ],
          "coloraxis": "coloraxis",
          "symbol": "circle"
         },
         "mode": "markers",
         "name": "",
         "scene": "scene",
         "showlegend": false,
         "type": "scatter3d",
         "x": [
          0,
          20.1,
          10.55,
          1.47,
          0.45,
          0,
          0.59,
          1.1,
          0,
          0,
          0,
          2.24,
          111.9,
          0.93,
          0,
          65.93,
          1.77,
          0.72,
          0.19,
          0,
          0.36,
          0,
          1.03,
          0,
          0,
          3.72,
          2.02,
          1.29,
          10.8,
          47.9,
          0.46,
          4.6,
          0,
          0,
          2.47,
          32.71,
          0,
          0.75,
          1.3,
          0,
          5.47,
          0,
          4.97,
          0,
          0,
          4.16,
          0,
          0,
          1.98,
          0.8,
          0
         ],
         "y": [
          1.4,
          29.39,
          12.566,
          2.124,
          1.64,
          1.954,
          1.946,
          2.42,
          2.06,
          1.4340000000000002,
          1.4340000000000002,
          6.55,
          74.282,
          1.756,
          1.5219999999999998,
          49.076,
          6.72,
          1.6840000000000002,
          2.412,
          1.916,
          1.546,
          1.41,
          2.092,
          1.564,
          1.832,
          7.544,
          1.95,
          25.172,
          17.53,
          39.22,
          1.612,
          7.3820000000000014,
          1.4,
          1.4,
          15.208,
          24.81,
          1.4,
          2.156,
          1.92,
          1.4,
          8.396,
          2.028,
          9.23,
          1.944,
          1.876,
          4.738,
          1.876,
          1.54,
          3.408,
          1.7080000000000002,
          1.5219999999999998
         ],
         "z": [
          0.22900389069975224,
          8.666019590182865,
          3.8596628169924863,
          0.4454218521914417,
          0.2980797309863257,
          0.48736883839822465,
          0.4240182327569719,
          0.5934905865214857,
          0.5363307671599278,
          0.24498998701729202,
          0.24498998701729202,
          2.1742614891249135,
          18.174366889345084,
          0.31664597457327304,
          0.28628216136844054,
          12.808579282519837,
          2.2851084310918384,
          0.2981772910280682,
          0.6720241520041379,
          0.4697818968257381,
          0.2626953782757522,
          0.23370758373366685,
          0.45688698760534274,
          0.30594827283320325,
          0.43083895719246845,
          2.439782966708367,
          0.3471110842504981,
          9.255852246815452,
          5.4594556827413,
          10.608143263789632,
          0.28464462644299093,
          2.329074860651301,
          0.22900389069975224,
          0.22900389069975224,
          5.365219591064316,
          6.98119628427804,
          0.22900389069975224,
          0.5041933831917076,
          0.3670720656819517,
          0.22900389069975224,
          2.6503697476042096,
          0.5215645588724316,
          2.975186123861023,
          0.4827424888702121,
          0.4512491791800797,
          1.3673541346927625,
          0.4512491791800797,
          0.2947137300023701,
          0.9505354775086137,
          0.3035830593408857,
          0.28628216136844054
         ]
        }
       ],
       "layout": {
        "coloraxis": {
         "colorbar": {
          "title": {
           "text": "Audit_Risk"
          }
         },
         "colorscale": [
          [
           0,
           "#0d0887"
          ],
          [
           0.1111111111111111,
           "#46039f"
          ],
          [
           0.2222222222222222,
           "#7201a8"
          ],
          [
           0.3333333333333333,
           "#9c179e"
          ],
          [
           0.4444444444444444,
           "#bd3786"
          ],
          [
           0.5555555555555556,
           "#d8576b"
          ],
          [
           0.6666666666666666,
           "#ed7953"
          ],
          [
           0.7777777777777778,
           "#fb9f3a"
          ],
          [
           0.8888888888888888,
           "#fdca26"
          ],
          [
           1,
           "#f0f921"
          ]
         ]
        },
        "legend": {
         "tracegroupgap": 0
        },
        "margin": {
         "t": 60
        },
        "scene": {
         "domain": {
          "x": [
           0,
           1
          ],
          "y": [
           0,
           1
          ]
         },
         "xaxis": {
          "title": {
           "text": "PARA_B"
          }
         },
         "yaxis": {
          "title": {
           "text": "Inherent_Risk"
          }
         },
         "zaxis": {
          "title": {
           "text": "Audit_Risk"
          }
         }
        },
        "template": {
         "data": {
          "bar": [
           {
            "error_x": {
             "color": "#2a3f5f"
            },
            "error_y": {
             "color": "#2a3f5f"
            },
            "marker": {
             "line": {
              "color": "#E5ECF6",
              "width": 0.5
             },
             "pattern": {
              "fillmode": "overlay",
              "size": 10,
              "solidity": 0.2
             }
            },
            "type": "bar"
           }
          ],
          "barpolar": [
           {
            "marker": {
             "line": {
              "color": "#E5ECF6",
              "width": 0.5
             },
             "pattern": {
              "fillmode": "overlay",
              "size": 10,
              "solidity": 0.2
             }
            },
            "type": "barpolar"
           }
          ],
          "carpet": [
           {
            "aaxis": {
             "endlinecolor": "#2a3f5f",
             "gridcolor": "white",
             "linecolor": "white",
             "minorgridcolor": "white",
             "startlinecolor": "#2a3f5f"
            },
            "baxis": {
             "endlinecolor": "#2a3f5f",
             "gridcolor": "white",
             "linecolor": "white",
             "minorgridcolor": "white",
             "startlinecolor": "#2a3f5f"
            },
            "type": "carpet"
           }
          ],
          "choropleth": [
           {
            "colorbar": {
             "outlinewidth": 0,
             "ticks": ""
            },
            "type": "choropleth"
           }
          ],
          "contour": [
           {
            "colorbar": {
             "outlinewidth": 0,
             "ticks": ""
            },
            "colorscale": [
             [
              0,
              "#0d0887"
             ],
             [
              0.1111111111111111,
              "#46039f"
             ],
             [
              0.2222222222222222,
              "#7201a8"
             ],
             [
              0.3333333333333333,
              "#9c179e"
             ],
             [
              0.4444444444444444,
              "#bd3786"
             ],
             [
              0.5555555555555556,
              "#d8576b"
             ],
             [
              0.6666666666666666,
              "#ed7953"
             ],
             [
              0.7777777777777778,
              "#fb9f3a"
             ],
             [
              0.8888888888888888,
              "#fdca26"
             ],
             [
              1,
              "#f0f921"
             ]
            ],
            "type": "contour"
           }
          ],
          "contourcarpet": [
           {
            "colorbar": {
             "outlinewidth": 0,
             "ticks": ""
            },
            "type": "contourcarpet"
           }
          ],
          "heatmap": [
           {
            "colorbar": {
             "outlinewidth": 0,
             "ticks": ""
            },
            "colorscale": [
             [
              0,
              "#0d0887"
             ],
             [
              0.1111111111111111,
              "#46039f"
             ],
             [
              0.2222222222222222,
              "#7201a8"
             ],
             [
              0.3333333333333333,
              "#9c179e"
             ],
             [
              0.4444444444444444,
              "#bd3786"
             ],
             [
              0.5555555555555556,
              "#d8576b"
             ],
             [
              0.6666666666666666,
              "#ed7953"
             ],
             [
              0.7777777777777778,
              "#fb9f3a"
             ],
             [
              0.8888888888888888,
              "#fdca26"
             ],
             [
              1,
              "#f0f921"
             ]
            ],
            "type": "heatmap"
           }
          ],
          "heatmapgl": [
           {
            "colorbar": {
             "outlinewidth": 0,
             "ticks": ""
            },
            "colorscale": [
             [
              0,
              "#0d0887"
             ],
             [
              0.1111111111111111,
              "#46039f"
             ],
             [
              0.2222222222222222,
              "#7201a8"
             ],
             [
              0.3333333333333333,
              "#9c179e"
             ],
             [
              0.4444444444444444,
              "#bd3786"
             ],
             [
              0.5555555555555556,
              "#d8576b"
             ],
             [
              0.6666666666666666,
              "#ed7953"
             ],
             [
              0.7777777777777778,
              "#fb9f3a"
             ],
             [
              0.8888888888888888,
              "#fdca26"
             ],
             [
              1,
              "#f0f921"
             ]
            ],
            "type": "heatmapgl"
           }
          ],
          "histogram": [
           {
            "marker": {
             "pattern": {
              "fillmode": "overlay",
              "size": 10,
              "solidity": 0.2
             }
            },
            "type": "histogram"
           }
          ],
          "histogram2d": [
           {
            "colorbar": {
             "outlinewidth": 0,
             "ticks": ""
            },
            "colorscale": [
             [
              0,
              "#0d0887"
             ],
             [
              0.1111111111111111,
              "#46039f"
             ],
             [
              0.2222222222222222,
              "#7201a8"
             ],
             [
              0.3333333333333333,
              "#9c179e"
             ],
             [
              0.4444444444444444,
              "#bd3786"
             ],
             [
              0.5555555555555556,
              "#d8576b"
             ],
             [
              0.6666666666666666,
              "#ed7953"
             ],
             [
              0.7777777777777778,
              "#fb9f3a"
             ],
             [
              0.8888888888888888,
              "#fdca26"
             ],
             [
              1,
              "#f0f921"
             ]
            ],
            "type": "histogram2d"
           }
          ],
          "histogram2dcontour": [
           {
            "colorbar": {
             "outlinewidth": 0,
             "ticks": ""
            },
            "colorscale": [
             [
              0,
              "#0d0887"
             ],
             [
              0.1111111111111111,
              "#46039f"
             ],
             [
              0.2222222222222222,
              "#7201a8"
             ],
             [
              0.3333333333333333,
              "#9c179e"
             ],
             [
              0.4444444444444444,
              "#bd3786"
             ],
             [
              0.5555555555555556,
              "#d8576b"
             ],
             [
              0.6666666666666666,
              "#ed7953"
             ],
             [
              0.7777777777777778,
              "#fb9f3a"
             ],
             [
              0.8888888888888888,
              "#fdca26"
             ],
             [
              1,
              "#f0f921"
             ]
            ],
            "type": "histogram2dcontour"
           }
          ],
          "mesh3d": [
           {
            "colorbar": {
             "outlinewidth": 0,
             "ticks": ""
            },
            "type": "mesh3d"
           }
          ],
          "parcoords": [
           {
            "line": {
             "colorbar": {
              "outlinewidth": 0,
              "ticks": ""
             }
            },
            "type": "parcoords"
           }
          ],
          "pie": [
           {
            "automargin": true,
            "type": "pie"
           }
          ],
          "scatter": [
           {
            "marker": {
             "colorbar": {
              "outlinewidth": 0,
              "ticks": ""
             }
            },
            "type": "scatter"
           }
          ],
          "scatter3d": [
           {
            "line": {
             "colorbar": {
              "outlinewidth": 0,
              "ticks": ""
             }
            },
            "marker": {
             "colorbar": {
              "outlinewidth": 0,
              "ticks": ""
             }
            },
            "type": "scatter3d"
           }
          ],
          "scattercarpet": [
           {
            "marker": {
             "colorbar": {
              "outlinewidth": 0,
              "ticks": ""
             }
            },
            "type": "scattercarpet"
           }
          ],
          "scattergeo": [
           {
            "marker": {
             "colorbar": {
              "outlinewidth": 0,
              "ticks": ""
             }
            },
            "type": "scattergeo"
           }
          ],
          "scattergl": [
           {
            "marker": {
             "colorbar": {
              "outlinewidth": 0,
              "ticks": ""
             }
            },
            "type": "scattergl"
           }
          ],
          "scattermapbox": [
           {
            "marker": {
             "colorbar": {
              "outlinewidth": 0,
              "ticks": ""
             }
            },
            "type": "scattermapbox"
           }
          ],
          "scatterpolar": [
           {
            "marker": {
             "colorbar": {
              "outlinewidth": 0,
              "ticks": ""
             }
            },
            "type": "scatterpolar"
           }
          ],
          "scatterpolargl": [
           {
            "marker": {
             "colorbar": {
              "outlinewidth": 0,
              "ticks": ""
             }
            },
            "type": "scatterpolargl"
           }
          ],
          "scatterternary": [
           {
            "marker": {
             "colorbar": {
              "outlinewidth": 0,
              "ticks": ""
             }
            },
            "type": "scatterternary"
           }
          ],
          "surface": [
           {
            "colorbar": {
             "outlinewidth": 0,
             "ticks": ""
            },
            "colorscale": [
             [
              0,
              "#0d0887"
             ],
             [
              0.1111111111111111,
              "#46039f"
             ],
             [
              0.2222222222222222,
              "#7201a8"
             ],
             [
              0.3333333333333333,
              "#9c179e"
             ],
             [
              0.4444444444444444,
              "#bd3786"
             ],
             [
              0.5555555555555556,
              "#d8576b"
             ],
             [
              0.6666666666666666,
              "#ed7953"
             ],
             [
              0.7777777777777778,
              "#fb9f3a"
             ],
             [
              0.8888888888888888,
              "#fdca26"
             ],
             [
              1,
              "#f0f921"
             ]
            ],
            "type": "surface"
           }
          ],
          "table": [
           {
            "cells": {
             "fill": {
              "color": "#EBF0F8"
             },
             "line": {
              "color": "white"
             }
            },
            "header": {
             "fill": {
              "color": "#C8D4E3"
             },
             "line": {
              "color": "white"
             }
            },
            "type": "table"
           }
          ]
         },
         "layout": {
          "annotationdefaults": {
           "arrowcolor": "#2a3f5f",
           "arrowhead": 0,
           "arrowwidth": 1
          },
          "autotypenumbers": "strict",
          "coloraxis": {
           "colorbar": {
            "outlinewidth": 0,
            "ticks": ""
           }
          },
          "colorscale": {
           "diverging": [
            [
             0,
             "#8e0152"
            ],
            [
             0.1,
             "#c51b7d"
            ],
            [
             0.2,
             "#de77ae"
            ],
            [
             0.3,
             "#f1b6da"
            ],
            [
             0.4,
             "#fde0ef"
            ],
            [
             0.5,
             "#f7f7f7"
            ],
            [
             0.6,
             "#e6f5d0"
            ],
            [
             0.7,
             "#b8e186"
            ],
            [
             0.8,
             "#7fbc41"
            ],
            [
             0.9,
             "#4d9221"
            ],
            [
             1,
             "#276419"
            ]
           ],
           "sequential": [
            [
             0,
             "#0d0887"
            ],
            [
             0.1111111111111111,
             "#46039f"
            ],
            [
             0.2222222222222222,
             "#7201a8"
            ],
            [
             0.3333333333333333,
             "#9c179e"
            ],
            [
             0.4444444444444444,
             "#bd3786"
            ],
            [
             0.5555555555555556,
             "#d8576b"
            ],
            [
             0.6666666666666666,
             "#ed7953"
            ],
            [
             0.7777777777777778,
             "#fb9f3a"
            ],
            [
             0.8888888888888888,
             "#fdca26"
            ],
            [
             1,
             "#f0f921"
            ]
           ],
           "sequentialminus": [
            [
             0,
             "#0d0887"
            ],
            [
             0.1111111111111111,
             "#46039f"
            ],
            [
             0.2222222222222222,
             "#7201a8"
            ],
            [
             0.3333333333333333,
             "#9c179e"
            ],
            [
             0.4444444444444444,
             "#bd3786"
            ],
            [
             0.5555555555555556,
             "#d8576b"
            ],
            [
             0.6666666666666666,
             "#ed7953"
            ],
            [
             0.7777777777777778,
             "#fb9f3a"
            ],
            [
             0.8888888888888888,
             "#fdca26"
            ],
            [
             1,
             "#f0f921"
            ]
           ]
          },
          "colorway": [
           "#636efa",
           "#EF553B",
           "#00cc96",
           "#ab63fa",
           "#FFA15A",
           "#19d3f3",
           "#FF6692",
           "#B6E880",
           "#FF97FF",
           "#FECB52"
          ],
          "font": {
           "color": "#2a3f5f"
          },
          "geo": {
           "bgcolor": "white",
           "lakecolor": "white",
           "landcolor": "#E5ECF6",
           "showlakes": true,
           "showland": true,
           "subunitcolor": "white"
          },
          "hoverlabel": {
           "align": "left"
          },
          "hovermode": "closest",
          "mapbox": {
           "style": "light"
          },
          "paper_bgcolor": "white",
          "plot_bgcolor": "#E5ECF6",
          "polar": {
           "angularaxis": {
            "gridcolor": "white",
            "linecolor": "white",
            "ticks": ""
           },
           "bgcolor": "#E5ECF6",
           "radialaxis": {
            "gridcolor": "white",
            "linecolor": "white",
            "ticks": ""
           }
          },
          "scene": {
           "xaxis": {
            "backgroundcolor": "#E5ECF6",
            "gridcolor": "white",
            "gridwidth": 2,
            "linecolor": "white",
            "showbackground": true,
            "ticks": "",
            "zerolinecolor": "white"
           },
           "yaxis": {
            "backgroundcolor": "#E5ECF6",
            "gridcolor": "white",
            "gridwidth": 2,
            "linecolor": "white",
            "showbackground": true,
            "ticks": "",
            "zerolinecolor": "white"
           },
           "zaxis": {
            "backgroundcolor": "#E5ECF6",
            "gridcolor": "white",
            "gridwidth": 2,
            "linecolor": "white",
            "showbackground": true,
            "ticks": "",
            "zerolinecolor": "white"
           }
          },
          "shapedefaults": {
           "line": {
            "color": "#2a3f5f"
           }
          },
          "ternary": {
           "aaxis": {
            "gridcolor": "white",
            "linecolor": "white",
            "ticks": ""
           },
           "baxis": {
            "gridcolor": "white",
            "linecolor": "white",
            "ticks": ""
           },
           "bgcolor": "#E5ECF6",
           "caxis": {
            "gridcolor": "white",
            "linecolor": "white",
            "ticks": ""
           }
          },
          "title": {
           "x": 0.05
          },
          "xaxis": {
           "automargin": true,
           "gridcolor": "white",
           "linecolor": "white",
           "ticks": "",
           "title": {
            "standoff": 15
           },
           "zerolinecolor": "white",
           "zerolinewidth": 2
          },
          "yaxis": {
           "automargin": true,
           "gridcolor": "white",
           "linecolor": "white",
           "ticks": "",
           "title": {
            "standoff": 15
           },
           "zerolinecolor": "white",
           "zerolinewidth": 2
          }
         }
        }
       }
      }
     },
     "metadata": {},
     "output_type": "display_data"
    }
   ],
   "source": [
    "# get an interactive 3d plot. Plotly express\n",
    "import plotly.express as px\n",
    "\n",
    "data_s_n = data_unknown.assign(Audit_Risk = y_predict_new)[columns]\n",
    "\n",
    "fig = px.scatter_3d(data_s_n, x='PARA_B', y='Inherent_Risk', z='Audit_Risk', color='Audit_Risk')\n",
    "fig.show()"
   ]
  },
  {
   "cell_type": "code",
   "execution_count": 845,
   "metadata": {},
   "outputs": [
    {
     "data": {
      "application/vnd.plotly.v1+json": {
       "config": {
        "plotlyServerURL": "https://plot.ly"
       },
       "data": [
        {
         "hovertemplate": "PARA_B=%{x}<br>Inherent_Risk=%{y}<br>Audit_Risk=%{marker.color}<extra></extra>",
         "legendgroup": "",
         "marker": {
          "color": [
           4.1616,
           1.5516,
           0.6559999999999999,
           0.2808,
           0.3048,
           5.0360000000000005,
           37.1926,
           0.318,
           16.8064,
           0.3144,
           0.4104,
           21.7536,
           0.282,
           0.3432,
           0.9932,
           1.1128,
           0.3888,
           0.8732,
           4.6924,
           32.658,
           21.2664,
           0.3132,
           0.368,
           0.5116,
           1.4088,
           18.6056,
           0.28,
           0.9088,
           30.6276,
           0.3832,
           0.7648,
           3.984,
           25.4624,
           0.4428,
           4.6592,
           1.398,
           0.28,
           0.28,
           1.2988,
           0.3132,
           17.7664,
           0.348,
           0.6759999999999999,
           0.6336,
           10.9028,
           11.1312,
           0.9372,
           1.0744,
           0.4948,
           0.3716,
           2.61,
           0.3172,
           19.374,
           0.2904,
           0.2812,
           22.9984,
           0.322,
           0.2996,
           0.556,
           0.9672,
           44.8336,
           0.3112,
           3.258,
           0.3124,
           0.7632,
           0.4528,
           0.2932,
           0.28,
           0.3976,
           52.012,
           0.3136,
           0.3872,
           1.8552,
           7.2184,
           0.3296,
           0.3216,
           8.0668,
           0.4164,
           0.2976,
           2.8984,
           8.376,
           0.9948,
           0.364,
           0.3496,
           2.4236,
           0.28,
           3.9464,
           0.4124,
           5.2776,
           0.3004,
           1.1768,
           3.9772,
           0.28,
           1.7088,
           10.558,
           0.4124,
           0.7564,
           0.3136,
           6.4692,
           0.448,
           0.290484,
           15.1512,
           0.326,
           0.6288,
           0.7264,
           0.59,
           0.3032,
           0.288,
           1.2148,
           0.2884,
           1.0456,
           0.3168,
           0.3808,
           11.0544,
           0.3092,
           0.5108,
           0.4104,
           0.28,
           23.77,
           3.602,
           0.3244,
           0.3132,
           0.7744,
           0.2824,
           8.9628,
           3.0332,
           0.2868,
           1.4988,
           0.5492,
           0.2972,
           0.2836,
           1.6816,
           9.1172,
           0.28,
           1.4964,
           0.338,
           0.3032,
           45.2368,
           0.72,
           1.3812,
           0.308,
           0.408,
           14.2984,
           0.2808,
           0.2912,
           21.6724,
           0.8744,
           0.3768,
           22.3248,
           0.2912,
           11.6236,
           39.0624,
           0.2896,
           0.3524,
           0.28,
           0.4144,
           0.4924,
           0.3096,
           0.29246,
           0.28,
           8.1208,
           1.32,
           0.286,
           0.3152,
           0.3008,
           0.2996,
           0.2992,
           12.7652,
           0.3216,
           0.31388,
           1.5768,
           0.6412,
           1.568,
           0.9016,
           0.2904,
           12.0676,
           0.2972,
           1.0272,
           2.928,
           0.334,
           0.7508,
           3.982,
           0.292092,
           0.2961,
           0.3808,
           7.1472,
           0.3168,
           0.3012,
           18.1896,
           0.3156,
           1.758,
           0.2888,
           1.4232,
           0.304,
           0.7536,
           1.586472,
           0.2824,
           0.2892
          ],
          "coloraxis": "coloraxis",
          "symbol": "circle"
         },
         "mode": "markers",
         "name": "",
         "scene": "scene",
         "showlegend": false,
         "type": "scatter3d",
         "x": [
          10.24,
          4.51,
          0.79,
          0,
          0.33,
          13.03,
          8.59,
          0.88,
          71.09,
          0.47,
          0,
          41.47,
          0.05,
          0,
          4.16,
          6.72,
          0.97,
          4.78,
          14.64,
          0,
          1,
          0,
          0,
          0.02,
          0,
          67.37,
          0,
          5.24,
          36.18,
          1.29,
          0,
          3.71,
          42.61,
          1.5,
          11.52,
          1.59,
          0,
          0,
          1.64,
          0.46,
          113.97,
          0.62,
          3.3,
          0.41,
          72.46,
          0.02,
          4.6,
          0,
          0,
          0,
          16.63,
          0.87,
          36.16,
          0,
          0,
          79.5,
          0.01,
          0.17,
          0,
          0,
          72.07,
          0,
          1.28,
          0.81,
          0,
          1.96,
          0,
          0,
          0.82,
          72.76,
          0.28,
          0,
          0.83,
          52.89,
          0.63,
          0.55,
          16.74,
          1.24,
          0.16,
          4.83,
          3.4,
          2.64,
          0,
          1,
          1.6,
          0,
          0,
          1.14,
          28.06,
          0,
          1.56,
          10.83,
          0,
          0,
          45.16,
          0,
          5.94,
          0,
          2.1,
          1.1,
          0.0021,
          25.74,
          0.11,
          2,
          0.99,
          0.37,
          0,
          0,
          1.12,
          0,
          0.57,
          0.91,
          0,
          20.62,
          0,
          4.83,
          0,
          0,
          9.49,
          17.85,
          0.14,
          0.29,
          0,
          0,
          72,
          16.09,
          0,
          3.53,
          0.39,
          0,
          0,
          11.68,
          47,
          0,
          0.44,
          0,
          0.58,
          0,
          0,
          0,
          0,
          0,
          46.78,
          0,
          0.11,
          87.93,
          0.99,
          0,
          67.91,
          0.04,
          42.19,
          67.38,
          0,
          0.75,
          0,
          0.91,
          0,
          0.23,
          0.0015,
          0,
          29.25,
          0,
          0,
          0.37,
          0.21,
          0,
          0.28,
          37.33,
          0,
          0.84,
          0,
          2.99,
          0,
          0.54,
          0,
          31.62,
          0,
          1.58,
          1.14,
          0.46,
          0.55,
          0,
          0.0023,
          0.0025,
          0,
          45.51,
          0,
          0.25,
          1.47,
          0.19,
          0.63,
          0.22,
          0,
          0,
          0,
          1.11,
          0.06,
          0.23
         ],
         "y": [
          20.808000000000003,
          7.757999999999999,
          3.28,
          1.404,
          1.524,
          12.59,
          21.878,
          1.59,
          84.03200000000002,
          1.5719999999999998,
          2.052,
          54.38399999999999,
          1.41,
          1.716,
          4.966,
          5.564,
          1.944,
          4.3660000000000005,
          23.462,
          54.43,
          35.444,
          1.5659999999999998,
          1.84,
          2.5580000000000003,
          2.3480000000000003,
          93.028,
          1.4,
          4.544,
          51.04600000000001,
          1.916,
          1.912,
          19.92,
          31.828000000000007,
          2.214,
          11.648,
          6.99,
          1.4,
          1.4,
          6.494,
          1.5659999999999998,
          88.83200000000002,
          1.74,
          3.38,
          3.168,
          54.514,
          18.552,
          4.686,
          5.372000000000001,
          2.474,
          1.858,
          13.05,
          1.586,
          32.29,
          1.452,
          1.406,
          114.992,
          1.61,
          1.4980000000000002,
          2.78,
          2.418,
          56.042,
          1.556,
          16.29,
          1.5619999999999998,
          1.908,
          2.264,
          1.466,
          1.4,
          1.988,
          52.012,
          1.568,
          1.936,
          3.092,
          36.092,
          1.648,
          1.608,
          40.334,
          2.082,
          1.4880000000000002,
          14.492,
          20.94,
          4.974,
          1.82,
          1.7480000000000002,
          12.118,
          1.4,
          19.732,
          2.062,
          26.388,
          1.5019999999999998,
          5.884,
          19.886,
          1.4,
          2.8480000000000003,
          52.79,
          2.062,
          3.782,
          1.568,
          10.782,
          2.24,
          1.45242,
          37.878,
          1.63,
          3.144,
          3.632,
          2.95,
          1.516,
          1.44,
          6.074,
          1.442,
          2.614,
          1.584,
          1.904,
          27.636,
          1.546,
          2.5540000000000003,
          2.052,
          1.4,
          118.85,
          18.01,
          1.622,
          1.5659999999999998,
          1.936,
          1.412,
          44.81399999999999,
          15.166,
          1.4340000000000002,
          7.494,
          2.7460000000000004,
          1.486,
          1.418,
          8.408,
          45.58600000000001,
          1.4,
          7.482,
          1.69,
          1.516,
          56.54600000000001,
          1.8,
          2.302,
          1.54,
          2.04,
          71.492,
          1.404,
          1.456,
          108.362,
          4.372,
          1.884,
          55.812,
          1.456,
          58.118,
          97.656,
          1.4480000000000002,
          1.7619999999999998,
          1.4,
          2.072,
          2.462,
          1.548,
          1.4623,
          1.4,
          40.604,
          2.2,
          1.43,
          1.5759999999999998,
          1.504,
          1.4980000000000002,
          1.496,
          63.826,
          1.608,
          1.5694,
          2.628,
          3.2060000000000004,
          7.84,
          4.508,
          1.452,
          60.338,
          1.486,
          5.136,
          7.32,
          1.67,
          3.754,
          19.91,
          1.46046,
          1.4805,
          1.904,
          35.736,
          1.584,
          1.506,
          30.316,
          1.578,
          2.93,
          1.444,
          2.372,
          1.52,
          1.884,
          2.64412,
          1.412,
          1.446
         ],
         "z": [
          4.1616,
          1.5516,
          0.6559999999999999,
          0.2808,
          0.3048,
          5.0360000000000005,
          37.1926,
          0.318,
          16.8064,
          0.3144,
          0.4104,
          21.7536,
          0.282,
          0.3432,
          0.9932,
          1.1128,
          0.3888,
          0.8732,
          4.6924,
          32.658,
          21.2664,
          0.3132,
          0.368,
          0.5116,
          1.4088,
          18.6056,
          0.28,
          0.9088,
          30.6276,
          0.3832,
          0.7648,
          3.984,
          25.4624,
          0.4428,
          4.6592,
          1.398,
          0.28,
          0.28,
          1.2988,
          0.3132,
          17.7664,
          0.348,
          0.6759999999999999,
          0.6336,
          10.9028,
          11.1312,
          0.9372,
          1.0744,
          0.4948,
          0.3716,
          2.61,
          0.3172,
          19.374,
          0.2904,
          0.2812,
          22.9984,
          0.322,
          0.2996,
          0.556,
          0.9672,
          44.8336,
          0.3112,
          3.258,
          0.3124,
          0.7632,
          0.4528,
          0.2932,
          0.28,
          0.3976,
          52.012,
          0.3136,
          0.3872,
          1.8552,
          7.2184,
          0.3296,
          0.3216,
          8.0668,
          0.4164,
          0.2976,
          2.8984,
          8.376,
          0.9948,
          0.364,
          0.3496,
          2.4236,
          0.28,
          3.9464,
          0.4124,
          5.2776,
          0.3004,
          1.1768,
          3.9772,
          0.28,
          1.7088,
          10.558,
          0.4124,
          0.7564,
          0.3136,
          6.4692,
          0.448,
          0.290484,
          15.1512,
          0.326,
          0.6288,
          0.7264,
          0.59,
          0.3032,
          0.288,
          1.2148,
          0.2884,
          1.0456,
          0.3168,
          0.3808,
          11.0544,
          0.3092,
          0.5108,
          0.4104,
          0.28,
          23.77,
          3.602,
          0.3244,
          0.3132,
          0.7744,
          0.2824,
          8.9628,
          3.0332,
          0.2868,
          1.4988,
          0.5492,
          0.2972,
          0.2836,
          1.6816,
          9.1172,
          0.28,
          1.4964,
          0.338,
          0.3032,
          45.2368,
          0.72,
          1.3812,
          0.308,
          0.408,
          14.2984,
          0.2808,
          0.2912,
          21.6724,
          0.8744,
          0.3768,
          22.3248,
          0.2912,
          11.6236,
          39.0624,
          0.2896,
          0.3524,
          0.28,
          0.4144,
          0.4924,
          0.3096,
          0.29246,
          0.28,
          8.1208,
          1.32,
          0.286,
          0.3152,
          0.3008,
          0.2996,
          0.2992,
          12.7652,
          0.3216,
          0.31388,
          1.5768,
          0.6412,
          1.568,
          0.9016,
          0.2904,
          12.0676,
          0.2972,
          1.0272,
          2.928,
          0.334,
          0.7508,
          3.982,
          0.292092,
          0.2961,
          0.3808,
          7.1472,
          0.3168,
          0.3012,
          18.1896,
          0.3156,
          1.758,
          0.2888,
          1.4232,
          0.304,
          0.7536,
          1.586472,
          0.2824,
          0.2892
         ]
        }
       ],
       "layout": {
        "coloraxis": {
         "colorbar": {
          "title": {
           "text": "Audit_Risk"
          }
         },
         "colorscale": [
          [
           0,
           "#0d0887"
          ],
          [
           0.1111111111111111,
           "#46039f"
          ],
          [
           0.2222222222222222,
           "#7201a8"
          ],
          [
           0.3333333333333333,
           "#9c179e"
          ],
          [
           0.4444444444444444,
           "#bd3786"
          ],
          [
           0.5555555555555556,
           "#d8576b"
          ],
          [
           0.6666666666666666,
           "#ed7953"
          ],
          [
           0.7777777777777778,
           "#fb9f3a"
          ],
          [
           0.8888888888888888,
           "#fdca26"
          ],
          [
           1,
           "#f0f921"
          ]
         ]
        },
        "legend": {
         "tracegroupgap": 0
        },
        "margin": {
         "t": 60
        },
        "scene": {
         "domain": {
          "x": [
           0,
           1
          ],
          "y": [
           0,
           1
          ]
         },
         "xaxis": {
          "title": {
           "text": "PARA_B"
          }
         },
         "yaxis": {
          "title": {
           "text": "Inherent_Risk"
          }
         },
         "zaxis": {
          "title": {
           "text": "Audit_Risk"
          }
         }
        },
        "template": {
         "data": {
          "bar": [
           {
            "error_x": {
             "color": "#2a3f5f"
            },
            "error_y": {
             "color": "#2a3f5f"
            },
            "marker": {
             "line": {
              "color": "#E5ECF6",
              "width": 0.5
             },
             "pattern": {
              "fillmode": "overlay",
              "size": 10,
              "solidity": 0.2
             }
            },
            "type": "bar"
           }
          ],
          "barpolar": [
           {
            "marker": {
             "line": {
              "color": "#E5ECF6",
              "width": 0.5
             },
             "pattern": {
              "fillmode": "overlay",
              "size": 10,
              "solidity": 0.2
             }
            },
            "type": "barpolar"
           }
          ],
          "carpet": [
           {
            "aaxis": {
             "endlinecolor": "#2a3f5f",
             "gridcolor": "white",
             "linecolor": "white",
             "minorgridcolor": "white",
             "startlinecolor": "#2a3f5f"
            },
            "baxis": {
             "endlinecolor": "#2a3f5f",
             "gridcolor": "white",
             "linecolor": "white",
             "minorgridcolor": "white",
             "startlinecolor": "#2a3f5f"
            },
            "type": "carpet"
           }
          ],
          "choropleth": [
           {
            "colorbar": {
             "outlinewidth": 0,
             "ticks": ""
            },
            "type": "choropleth"
           }
          ],
          "contour": [
           {
            "colorbar": {
             "outlinewidth": 0,
             "ticks": ""
            },
            "colorscale": [
             [
              0,
              "#0d0887"
             ],
             [
              0.1111111111111111,
              "#46039f"
             ],
             [
              0.2222222222222222,
              "#7201a8"
             ],
             [
              0.3333333333333333,
              "#9c179e"
             ],
             [
              0.4444444444444444,
              "#bd3786"
             ],
             [
              0.5555555555555556,
              "#d8576b"
             ],
             [
              0.6666666666666666,
              "#ed7953"
             ],
             [
              0.7777777777777778,
              "#fb9f3a"
             ],
             [
              0.8888888888888888,
              "#fdca26"
             ],
             [
              1,
              "#f0f921"
             ]
            ],
            "type": "contour"
           }
          ],
          "contourcarpet": [
           {
            "colorbar": {
             "outlinewidth": 0,
             "ticks": ""
            },
            "type": "contourcarpet"
           }
          ],
          "heatmap": [
           {
            "colorbar": {
             "outlinewidth": 0,
             "ticks": ""
            },
            "colorscale": [
             [
              0,
              "#0d0887"
             ],
             [
              0.1111111111111111,
              "#46039f"
             ],
             [
              0.2222222222222222,
              "#7201a8"
             ],
             [
              0.3333333333333333,
              "#9c179e"
             ],
             [
              0.4444444444444444,
              "#bd3786"
             ],
             [
              0.5555555555555556,
              "#d8576b"
             ],
             [
              0.6666666666666666,
              "#ed7953"
             ],
             [
              0.7777777777777778,
              "#fb9f3a"
             ],
             [
              0.8888888888888888,
              "#fdca26"
             ],
             [
              1,
              "#f0f921"
             ]
            ],
            "type": "heatmap"
           }
          ],
          "heatmapgl": [
           {
            "colorbar": {
             "outlinewidth": 0,
             "ticks": ""
            },
            "colorscale": [
             [
              0,
              "#0d0887"
             ],
             [
              0.1111111111111111,
              "#46039f"
             ],
             [
              0.2222222222222222,
              "#7201a8"
             ],
             [
              0.3333333333333333,
              "#9c179e"
             ],
             [
              0.4444444444444444,
              "#bd3786"
             ],
             [
              0.5555555555555556,
              "#d8576b"
             ],
             [
              0.6666666666666666,
              "#ed7953"
             ],
             [
              0.7777777777777778,
              "#fb9f3a"
             ],
             [
              0.8888888888888888,
              "#fdca26"
             ],
             [
              1,
              "#f0f921"
             ]
            ],
            "type": "heatmapgl"
           }
          ],
          "histogram": [
           {
            "marker": {
             "pattern": {
              "fillmode": "overlay",
              "size": 10,
              "solidity": 0.2
             }
            },
            "type": "histogram"
           }
          ],
          "histogram2d": [
           {
            "colorbar": {
             "outlinewidth": 0,
             "ticks": ""
            },
            "colorscale": [
             [
              0,
              "#0d0887"
             ],
             [
              0.1111111111111111,
              "#46039f"
             ],
             [
              0.2222222222222222,
              "#7201a8"
             ],
             [
              0.3333333333333333,
              "#9c179e"
             ],
             [
              0.4444444444444444,
              "#bd3786"
             ],
             [
              0.5555555555555556,
              "#d8576b"
             ],
             [
              0.6666666666666666,
              "#ed7953"
             ],
             [
              0.7777777777777778,
              "#fb9f3a"
             ],
             [
              0.8888888888888888,
              "#fdca26"
             ],
             [
              1,
              "#f0f921"
             ]
            ],
            "type": "histogram2d"
           }
          ],
          "histogram2dcontour": [
           {
            "colorbar": {
             "outlinewidth": 0,
             "ticks": ""
            },
            "colorscale": [
             [
              0,
              "#0d0887"
             ],
             [
              0.1111111111111111,
              "#46039f"
             ],
             [
              0.2222222222222222,
              "#7201a8"
             ],
             [
              0.3333333333333333,
              "#9c179e"
             ],
             [
              0.4444444444444444,
              "#bd3786"
             ],
             [
              0.5555555555555556,
              "#d8576b"
             ],
             [
              0.6666666666666666,
              "#ed7953"
             ],
             [
              0.7777777777777778,
              "#fb9f3a"
             ],
             [
              0.8888888888888888,
              "#fdca26"
             ],
             [
              1,
              "#f0f921"
             ]
            ],
            "type": "histogram2dcontour"
           }
          ],
          "mesh3d": [
           {
            "colorbar": {
             "outlinewidth": 0,
             "ticks": ""
            },
            "type": "mesh3d"
           }
          ],
          "parcoords": [
           {
            "line": {
             "colorbar": {
              "outlinewidth": 0,
              "ticks": ""
             }
            },
            "type": "parcoords"
           }
          ],
          "pie": [
           {
            "automargin": true,
            "type": "pie"
           }
          ],
          "scatter": [
           {
            "marker": {
             "colorbar": {
              "outlinewidth": 0,
              "ticks": ""
             }
            },
            "type": "scatter"
           }
          ],
          "scatter3d": [
           {
            "line": {
             "colorbar": {
              "outlinewidth": 0,
              "ticks": ""
             }
            },
            "marker": {
             "colorbar": {
              "outlinewidth": 0,
              "ticks": ""
             }
            },
            "type": "scatter3d"
           }
          ],
          "scattercarpet": [
           {
            "marker": {
             "colorbar": {
              "outlinewidth": 0,
              "ticks": ""
             }
            },
            "type": "scattercarpet"
           }
          ],
          "scattergeo": [
           {
            "marker": {
             "colorbar": {
              "outlinewidth": 0,
              "ticks": ""
             }
            },
            "type": "scattergeo"
           }
          ],
          "scattergl": [
           {
            "marker": {
             "colorbar": {
              "outlinewidth": 0,
              "ticks": ""
             }
            },
            "type": "scattergl"
           }
          ],
          "scattermapbox": [
           {
            "marker": {
             "colorbar": {
              "outlinewidth": 0,
              "ticks": ""
             }
            },
            "type": "scattermapbox"
           }
          ],
          "scatterpolar": [
           {
            "marker": {
             "colorbar": {
              "outlinewidth": 0,
              "ticks": ""
             }
            },
            "type": "scatterpolar"
           }
          ],
          "scatterpolargl": [
           {
            "marker": {
             "colorbar": {
              "outlinewidth": 0,
              "ticks": ""
             }
            },
            "type": "scatterpolargl"
           }
          ],
          "scatterternary": [
           {
            "marker": {
             "colorbar": {
              "outlinewidth": 0,
              "ticks": ""
             }
            },
            "type": "scatterternary"
           }
          ],
          "surface": [
           {
            "colorbar": {
             "outlinewidth": 0,
             "ticks": ""
            },
            "colorscale": [
             [
              0,
              "#0d0887"
             ],
             [
              0.1111111111111111,
              "#46039f"
             ],
             [
              0.2222222222222222,
              "#7201a8"
             ],
             [
              0.3333333333333333,
              "#9c179e"
             ],
             [
              0.4444444444444444,
              "#bd3786"
             ],
             [
              0.5555555555555556,
              "#d8576b"
             ],
             [
              0.6666666666666666,
              "#ed7953"
             ],
             [
              0.7777777777777778,
              "#fb9f3a"
             ],
             [
              0.8888888888888888,
              "#fdca26"
             ],
             [
              1,
              "#f0f921"
             ]
            ],
            "type": "surface"
           }
          ],
          "table": [
           {
            "cells": {
             "fill": {
              "color": "#EBF0F8"
             },
             "line": {
              "color": "white"
             }
            },
            "header": {
             "fill": {
              "color": "#C8D4E3"
             },
             "line": {
              "color": "white"
             }
            },
            "type": "table"
           }
          ]
         },
         "layout": {
          "annotationdefaults": {
           "arrowcolor": "#2a3f5f",
           "arrowhead": 0,
           "arrowwidth": 1
          },
          "autotypenumbers": "strict",
          "coloraxis": {
           "colorbar": {
            "outlinewidth": 0,
            "ticks": ""
           }
          },
          "colorscale": {
           "diverging": [
            [
             0,
             "#8e0152"
            ],
            [
             0.1,
             "#c51b7d"
            ],
            [
             0.2,
             "#de77ae"
            ],
            [
             0.3,
             "#f1b6da"
            ],
            [
             0.4,
             "#fde0ef"
            ],
            [
             0.5,
             "#f7f7f7"
            ],
            [
             0.6,
             "#e6f5d0"
            ],
            [
             0.7,
             "#b8e186"
            ],
            [
             0.8,
             "#7fbc41"
            ],
            [
             0.9,
             "#4d9221"
            ],
            [
             1,
             "#276419"
            ]
           ],
           "sequential": [
            [
             0,
             "#0d0887"
            ],
            [
             0.1111111111111111,
             "#46039f"
            ],
            [
             0.2222222222222222,
             "#7201a8"
            ],
            [
             0.3333333333333333,
             "#9c179e"
            ],
            [
             0.4444444444444444,
             "#bd3786"
            ],
            [
             0.5555555555555556,
             "#d8576b"
            ],
            [
             0.6666666666666666,
             "#ed7953"
            ],
            [
             0.7777777777777778,
             "#fb9f3a"
            ],
            [
             0.8888888888888888,
             "#fdca26"
            ],
            [
             1,
             "#f0f921"
            ]
           ],
           "sequentialminus": [
            [
             0,
             "#0d0887"
            ],
            [
             0.1111111111111111,
             "#46039f"
            ],
            [
             0.2222222222222222,
             "#7201a8"
            ],
            [
             0.3333333333333333,
             "#9c179e"
            ],
            [
             0.4444444444444444,
             "#bd3786"
            ],
            [
             0.5555555555555556,
             "#d8576b"
            ],
            [
             0.6666666666666666,
             "#ed7953"
            ],
            [
             0.7777777777777778,
             "#fb9f3a"
            ],
            [
             0.8888888888888888,
             "#fdca26"
            ],
            [
             1,
             "#f0f921"
            ]
           ]
          },
          "colorway": [
           "#636efa",
           "#EF553B",
           "#00cc96",
           "#ab63fa",
           "#FFA15A",
           "#19d3f3",
           "#FF6692",
           "#B6E880",
           "#FF97FF",
           "#FECB52"
          ],
          "font": {
           "color": "#2a3f5f"
          },
          "geo": {
           "bgcolor": "white",
           "lakecolor": "white",
           "landcolor": "#E5ECF6",
           "showlakes": true,
           "showland": true,
           "subunitcolor": "white"
          },
          "hoverlabel": {
           "align": "left"
          },
          "hovermode": "closest",
          "mapbox": {
           "style": "light"
          },
          "paper_bgcolor": "white",
          "plot_bgcolor": "#E5ECF6",
          "polar": {
           "angularaxis": {
            "gridcolor": "white",
            "linecolor": "white",
            "ticks": ""
           },
           "bgcolor": "#E5ECF6",
           "radialaxis": {
            "gridcolor": "white",
            "linecolor": "white",
            "ticks": ""
           }
          },
          "scene": {
           "xaxis": {
            "backgroundcolor": "#E5ECF6",
            "gridcolor": "white",
            "gridwidth": 2,
            "linecolor": "white",
            "showbackground": true,
            "ticks": "",
            "zerolinecolor": "white"
           },
           "yaxis": {
            "backgroundcolor": "#E5ECF6",
            "gridcolor": "white",
            "gridwidth": 2,
            "linecolor": "white",
            "showbackground": true,
            "ticks": "",
            "zerolinecolor": "white"
           },
           "zaxis": {
            "backgroundcolor": "#E5ECF6",
            "gridcolor": "white",
            "gridwidth": 2,
            "linecolor": "white",
            "showbackground": true,
            "ticks": "",
            "zerolinecolor": "white"
           }
          },
          "shapedefaults": {
           "line": {
            "color": "#2a3f5f"
           }
          },
          "ternary": {
           "aaxis": {
            "gridcolor": "white",
            "linecolor": "white",
            "ticks": ""
           },
           "baxis": {
            "gridcolor": "white",
            "linecolor": "white",
            "ticks": ""
           },
           "bgcolor": "#E5ECF6",
           "caxis": {
            "gridcolor": "white",
            "linecolor": "white",
            "ticks": ""
           }
          },
          "title": {
           "x": 0.05
          },
          "xaxis": {
           "automargin": true,
           "gridcolor": "white",
           "linecolor": "white",
           "ticks": "",
           "title": {
            "standoff": 15
           },
           "zerolinecolor": "white",
           "zerolinewidth": 2
          },
          "yaxis": {
           "automargin": true,
           "gridcolor": "white",
           "linecolor": "white",
           "ticks": "",
           "title": {
            "standoff": 15
           },
           "zerolinecolor": "white",
           "zerolinewidth": 2
          }
         }
        }
       }
      }
     },
     "metadata": {},
     "output_type": "display_data"
    }
   ],
   "source": [
    "data_s_t = data_train[columns].query('Audit_Risk < 60')\n",
    "\n",
    "fig = px.scatter_3d(data_s_t, x='PARA_B', y='Inherent_Risk', z='Audit_Risk', color='Audit_Risk')\n",
    "fig.show()"
   ]
  },
  {
   "cell_type": "code",
   "execution_count": 834,
   "metadata": {},
   "outputs": [
    {
     "data": {
      "text/plain": [
       "array([[<Axes: title={'center': 'PARA_B'}>,\n",
       "        <Axes: title={'center': 'Inherent_Risk'}>],\n",
       "       [<Axes: title={'center': 'Audit_Risk'}>, <Axes: >]], dtype=object)"
      ]
     },
     "execution_count": 834,
     "metadata": {},
     "output_type": "execute_result"
    },
    {
     "data": {
      "image/png": "[encoded data removed]",
      "text/plain": [
       "<Figure size 432x288 with 4 Axes>"
      ]
     },
     "metadata": {
      "needs_background": "light"
     },
     "output_type": "display_data"
    }
   ],
   "source": [
    "data_train[columns].query(\"Audit_Risk < 60\").hist()"
   ]
  },
  {
   "cell_type": "code",
   "execution_count": 819,
   "metadata": {},
   "outputs": [
    {
     "data": {
      "text/plain": [
       "<Axes: xlabel='Inherent_Risk', ylabel='Audit_Risk'>"
      ]
     },
     "execution_count": 819,
     "metadata": {},
     "output_type": "execute_result"
    },
    {
     "data": {
      "image/png": "[encoded data removed]",
      "text/plain": [
       "<Figure size 432x288 with 1 Axes>"
      ]
     },
     "metadata": {
      "needs_background": "light"
     },
     "output_type": "display_data"
    }
   ],
   "source": [
    "data_unknown.assign(Audit_Risk = y_predict_new).plot(x='Inherent_Risk', y='Audit_Risk', kind='scatter')"
   ]
  },
  {
   "cell_type": "code",
   "execution_count": 820,
   "metadata": {},
   "outputs": [
    {
     "data": {
      "text/plain": [
       "<Axes: xlabel='PARA_B', ylabel='Audit_Risk'>"
      ]
     },
     "execution_count": 820,
     "metadata": {},
     "output_type": "execute_result"
    },
    {
     "data": {
      "image/png": "[encoded data removed]",
      "text/plain": [
       "<Figure size 432x288 with 1 Axes>"
      ]
     },
     "metadata": {
      "needs_background": "light"
     },
     "output_type": "display_data"
    }
   ],
   "source": [
    "data_unknown_clean.assign(Audit_Risk = y_predict_new).plot(x='PARA_B', y='Audit_Risk', kind='scatter')"
   ]
  },
  {
   "cell_type": "code",
   "execution_count": 824,
   "metadata": {},
   "outputs": [
    {
     "data": {
      "text/plain": [
       "<Axes: xlabel='Inherent_Risk', ylabel='Audit_Risk'>"
      ]
     },
     "execution_count": 824,
     "metadata": {},
     "output_type": "execute_result"
    },
    {
     "data": {
      "image/png": "[encoded data removed]",
      "text/plain": [
       "<Figure size 432x288 with 1 Axes>"
      ]
     },
     "metadata": {
      "needs_background": "light"
     },
     "output_type": "display_data"
    }
   ],
   "source": [
    "data_test[columns].query('Audit_Risk < 60').plot(x='Inherent_Risk', y='Audit_Risk', kind='scatter')"
   ]
  },
  {
   "cell_type": "code",
   "execution_count": 826,
   "metadata": {},
   "outputs": [
    {
     "data": {
      "text/plain": [
       "<Axes: xlabel='PARA_B', ylabel='Audit_Risk'>"
      ]
     },
     "execution_count": 826,
     "metadata": {},
     "output_type": "execute_result"
    },
    {
     "data": {
      "image/png": "[encoded data removed]",
      "text/plain": [
       "<Figure size 432x288 with 1 Axes>"
      ]
     },
     "metadata": {
      "needs_background": "light"
     },
     "output_type": "display_data"
    }
   ],
   "source": [
    "data_test[columns].query('Audit_Risk < 60').plot(x='PARA_B', y='Audit_Risk', kind='scatter')"
   ]
  },
  {
   "cell_type": "code",
   "execution_count": 821,
   "metadata": {},
   "outputs": [
    {
     "data": {
      "text/plain": [
       "<Axes: xlabel='Inherent_Risk', ylabel='Audit_Risk'>"
      ]
     },
     "execution_count": 821,
     "metadata": {},
     "output_type": "execute_result"
    },
    {
     "data": {
      "image/png": "[encoded data removed]",
      "text/plain": [
       "<Figure size 432x288 with 1 Axes>"
      ]
     },
     "metadata": {
      "needs_background": "light"
     },
     "output_type": "display_data"
    }
   ],
   "source": [
    "data_train[columns].query('Audit_Risk < 60').plot(x='Inherent_Risk', y='Audit_Risk', kind='scatter')"
   ]
  },
  {
   "cell_type": "code",
   "execution_count": 822,
   "metadata": {},
   "outputs": [
    {
     "data": {
      "text/plain": [
       "<Axes: xlabel='PARA_B', ylabel='Audit_Risk'>"
      ]
     },
     "execution_count": 822,
     "metadata": {},
     "output_type": "execute_result"
    },
    {
     "data": {
      "image/png": "[encoded data removed]",
      "text/plain": [
       "<Figure size 432x288 with 1 Axes>"
      ]
     },
     "metadata": {
      "needs_background": "light"
     },
     "output_type": "display_data"
    }
   ],
   "source": [
    "data_train[columns].query('Audit_Risk < 60').plot(x='PARA_B', y='Audit_Risk', kind='scatter')"
   ]
  },
  {
   "cell_type": "code",
   "execution_count": 847,
   "metadata": {},
   "outputs": [],
   "source": [
    "data_train[columns].query('Audit_Risk < 60').to_csv('Audit_unknown.csv', index=False)"
   ]
  },
  {
   "cell_type": "markdown",
   "metadata": {},
   "source": [
    "### Else"
   ]
  },
  {
   "cell_type": "code",
   "execution_count": 770,
   "metadata": {},
   "outputs": [],
   "source": [
    "# columns_ = columns.copy()\n",
    "# columns_.remove('Audit_Risk')\n",
    "columns_ = [f\"PLS{n+1}\" for n in range(2)]"
   ]
  },
  {
   "cell_type": "code",
   "execution_count": 766,
   "metadata": {},
   "outputs": [
    {
     "data": {
      "text/plain": [
       "(97,)"
      ]
     },
     "execution_count": 766,
     "metadata": {},
     "output_type": "execute_result"
    }
   ],
   "source": [
    "data_test_clean.Audit_Risk.shape"
   ]
  },
  {
   "cell_type": "code",
   "execution_count": 767,
   "metadata": {},
   "outputs": [
    {
     "data": {
      "text/plain": [
       "(97, 2)"
      ]
     },
     "execution_count": 767,
     "metadata": {},
     "output_type": "execute_result"
    }
   ],
   "source": [
    "X_twisted.shape"
   ]
  },
  {
   "cell_type": "code",
   "execution_count": 768,
   "metadata": {},
   "outputs": [
    {
     "data": {
      "text/html": [
       "<style type=\"text/css\">\n",
       "#T_a84a2_row0_col0, #T_a84a2_row0_col1, #T_a84a2_row2_col2 {\n",
       "  background-color: #3b4cc0;\n",
       "  color: #f1f1f1;\n",
       "}\n",
       "#T_a84a2_row0_col2, #T_a84a2_row1_col1, #T_a84a2_row2_col0 {\n",
       "  background-color: #b40426;\n",
       "  color: #f1f1f1;\n",
       "}\n",
       "#T_a84a2_row1_col0 {\n",
       "  background-color: #f5c0a7;\n",
       "  color: #000000;\n",
       "}\n",
       "#T_a84a2_row1_col2 {\n",
       "  background-color: #bfd3f6;\n",
       "  color: #000000;\n",
       "}\n",
       "#T_a84a2_row2_col1 {\n",
       "  background-color: #c1d4f4;\n",
       "  color: #000000;\n",
       "}\n",
       "</style>\n",
       "<table id=\"T_a84a2\">\n",
       "  <thead>\n",
       "    <tr>\n",
       "      <th class=\"blank level0\" >&nbsp;</th>\n",
       "      <th id=\"T_a84a2_level0_col0\" class=\"col_heading level0 col0\" >PARA_B</th>\n",
       "      <th id=\"T_a84a2_level0_col1\" class=\"col_heading level0 col1\" >Inherent_Risk</th>\n",
       "      <th id=\"T_a84a2_level0_col2\" class=\"col_heading level0 col2\" >Audit_Risk</th>\n",
       "    </tr>\n",
       "  </thead>\n",
       "  <tbody>\n",
       "    <tr>\n",
       "      <th id=\"T_a84a2_level0_row0\" class=\"row_heading level0 row0\" >Audit_Risk</th>\n",
       "      <td id=\"T_a84a2_row0_col0\" class=\"data row0 col0\" >0.631105</td>\n",
       "      <td id=\"T_a84a2_row0_col1\" class=\"data row0 col1\" >0.776949</td>\n",
       "      <td id=\"T_a84a2_row0_col2\" class=\"data row0 col2\" >1.000000</td>\n",
       "    </tr>\n",
       "    <tr>\n",
       "      <th id=\"T_a84a2_level0_row1\" class=\"row_heading level0 row1\" >Inherent_Risk</th>\n",
       "      <td id=\"T_a84a2_row1_col0\" class=\"data row1 col0\" >0.867016</td>\n",
       "      <td id=\"T_a84a2_row1_col1\" class=\"data row1 col1\" >1.000000</td>\n",
       "      <td id=\"T_a84a2_row1_col2\" class=\"data row1 col2\" >0.776949</td>\n",
       "    </tr>\n",
       "    <tr>\n",
       "      <th id=\"T_a84a2_level0_row2\" class=\"row_heading level0 row2\" >PARA_B</th>\n",
       "      <td id=\"T_a84a2_row2_col0\" class=\"data row2 col0\" >1.000000</td>\n",
       "      <td id=\"T_a84a2_row2_col1\" class=\"data row2 col1\" >0.867016</td>\n",
       "      <td id=\"T_a84a2_row2_col2\" class=\"data row2 col2\" >0.631105</td>\n",
       "    </tr>\n",
       "  </tbody>\n",
       "</table>\n"
      ],
      "text/plain": [
       "<pandas.io.formats.style.Styler at 0x201d1b74550>"
      ]
     },
     "execution_count": 768,
     "metadata": {},
     "output_type": "execute_result"
    }
   ],
   "source": [
    "data_train_clean.assign(Audit_Risk = data_train['Audit_Risk']).corr().abs().sort_values('Audit_Risk', ascending=False).style.background_gradient(cmap='coolwarm')"
   ]
  },
  {
   "cell_type": "code",
   "execution_count": 771,
   "metadata": {},
   "outputs": [
    {
     "data": {
      "text/html": [
       "<style type=\"text/css\">\n",
       "#T_7343e_row0_col0, #T_7343e_row1_col1, #T_7343e_row2_col2 {\n",
       "  background-color: #b40426;\n",
       "  color: #f1f1f1;\n",
       "}\n",
       "#T_7343e_row0_col1, #T_7343e_row1_col0, #T_7343e_row1_col2 {\n",
       "  background-color: #3b4cc0;\n",
       "  color: #f1f1f1;\n",
       "}\n",
       "#T_7343e_row0_col2 {\n",
       "  background-color: #89acfd;\n",
       "  color: #000000;\n",
       "}\n",
       "#T_7343e_row2_col0 {\n",
       "  background-color: #9bbcff;\n",
       "  color: #000000;\n",
       "}\n",
       "#T_7343e_row2_col1 {\n",
       "  background-color: #4f69d9;\n",
       "  color: #f1f1f1;\n",
       "}\n",
       "</style>\n",
       "<table id=\"T_7343e\">\n",
       "  <thead>\n",
       "    <tr>\n",
       "      <th class=\"blank level0\" >&nbsp;</th>\n",
       "      <th id=\"T_7343e_level0_col0\" class=\"col_heading level0 col0\" >PLS1</th>\n",
       "      <th id=\"T_7343e_level0_col1\" class=\"col_heading level0 col1\" >PLS2</th>\n",
       "      <th id=\"T_7343e_level0_col2\" class=\"col_heading level0 col2\" >Audit_Risk</th>\n",
       "    </tr>\n",
       "  </thead>\n",
       "  <tbody>\n",
       "    <tr>\n",
       "      <th id=\"T_7343e_level0_row0\" class=\"row_heading level0 row0\" >PLS1</th>\n",
       "      <td id=\"T_7343e_row0_col0\" class=\"data row0 col0\" >1.000000</td>\n",
       "      <td id=\"T_7343e_row0_col1\" class=\"data row0 col1\" >0.000000</td>\n",
       "      <td id=\"T_7343e_row0_col2\" class=\"data row0 col2\" >0.292095</td>\n",
       "    </tr>\n",
       "    <tr>\n",
       "      <th id=\"T_7343e_level0_row1\" class=\"row_heading level0 row1\" >PLS2</th>\n",
       "      <td id=\"T_7343e_row1_col0\" class=\"data row1 col0\" >0.000000</td>\n",
       "      <td id=\"T_7343e_row1_col1\" class=\"data row1 col1\" >1.000000</td>\n",
       "      <td id=\"T_7343e_row1_col2\" class=\"data row1 col2\" >0.067168</td>\n",
       "    </tr>\n",
       "    <tr>\n",
       "      <th id=\"T_7343e_level0_row2\" class=\"row_heading level0 row2\" >Audit_Risk</th>\n",
       "      <td id=\"T_7343e_row2_col0\" class=\"data row2 col0\" >0.292095</td>\n",
       "      <td id=\"T_7343e_row2_col1\" class=\"data row2 col1\" >0.067168</td>\n",
       "      <td id=\"T_7343e_row2_col2\" class=\"data row2 col2\" >1.000000</td>\n",
       "    </tr>\n",
       "  </tbody>\n",
       "</table>\n"
      ],
      "text/plain": [
       "<pandas.io.formats.style.Styler at 0x201d1a92310>"
      ]
     },
     "execution_count": 771,
     "metadata": {},
     "output_type": "execute_result"
    }
   ],
   "source": [
    "pd.DataFrame(X_twisted_train, columns=columns_).assign(Audit_Risk = data_train_clean['Audit_Risk']).corr().abs().style.background_gradient(cmap='coolwarm')"
   ]
  },
  {
   "cell_type": "code",
   "execution_count": 772,
   "metadata": {},
   "outputs": [
    {
     "data": {
      "text/html": [
       "<style type=\"text/css\">\n",
       "#T_e6b6b_row0_col0, #T_e6b6b_row1_col1, #T_e6b6b_row2_col2 {\n",
       "  background-color: #b40426;\n",
       "  color: #f1f1f1;\n",
       "}\n",
       "#T_e6b6b_row0_col1, #T_e6b6b_row1_col0, #T_e6b6b_row1_col2 {\n",
       "  background-color: #3b4cc0;\n",
       "  color: #f1f1f1;\n",
       "}\n",
       "#T_e6b6b_row0_col2 {\n",
       "  background-color: #e36c55;\n",
       "  color: #f1f1f1;\n",
       "}\n",
       "#T_e6b6b_row2_col0 {\n",
       "  background-color: #df634e;\n",
       "  color: #f1f1f1;\n",
       "}\n",
       "#T_e6b6b_row2_col1 {\n",
       "  background-color: #6282ea;\n",
       "  color: #f1f1f1;\n",
       "}\n",
       "</style>\n",
       "<table id=\"T_e6b6b\">\n",
       "  <thead>\n",
       "    <tr>\n",
       "      <th class=\"blank level0\" >&nbsp;</th>\n",
       "      <th id=\"T_e6b6b_level0_col0\" class=\"col_heading level0 col0\" >PLS1</th>\n",
       "      <th id=\"T_e6b6b_level0_col1\" class=\"col_heading level0 col1\" >PLS2</th>\n",
       "      <th id=\"T_e6b6b_level0_col2\" class=\"col_heading level0 col2\" >Audit_Risk</th>\n",
       "    </tr>\n",
       "  </thead>\n",
       "  <tbody>\n",
       "    <tr>\n",
       "      <th id=\"T_e6b6b_level0_row0\" class=\"row_heading level0 row0\" >PLS1</th>\n",
       "      <td id=\"T_e6b6b_row0_col0\" class=\"data row0 col0\" >1.000000</td>\n",
       "      <td id=\"T_e6b6b_row0_col1\" class=\"data row0 col1\" >0.029937</td>\n",
       "      <td id=\"T_e6b6b_row0_col2\" class=\"data row0 col2\" >0.871990</td>\n",
       "    </tr>\n",
       "    <tr>\n",
       "      <th id=\"T_e6b6b_level0_row1\" class=\"row_heading level0 row1\" >PLS2</th>\n",
       "      <td id=\"T_e6b6b_row1_col0\" class=\"data row1 col0\" >0.029937</td>\n",
       "      <td id=\"T_e6b6b_row1_col1\" class=\"data row1 col1\" >1.000000</td>\n",
       "      <td id=\"T_e6b6b_row1_col2\" class=\"data row1 col2\" >0.154574</td>\n",
       "    </tr>\n",
       "    <tr>\n",
       "      <th id=\"T_e6b6b_level0_row2\" class=\"row_heading level0 row2\" >Audit_Risk</th>\n",
       "      <td id=\"T_e6b6b_row2_col0\" class=\"data row2 col0\" >0.871990</td>\n",
       "      <td id=\"T_e6b6b_row2_col1\" class=\"data row2 col1\" >0.154574</td>\n",
       "      <td id=\"T_e6b6b_row2_col2\" class=\"data row2 col2\" >1.000000</td>\n",
       "    </tr>\n",
       "  </tbody>\n",
       "</table>\n"
      ],
      "text/plain": [
       "<pandas.io.formats.style.Styler at 0x201d2a77a00>"
      ]
     },
     "execution_count": 772,
     "metadata": {},
     "output_type": "execute_result"
    }
   ],
   "source": [
    "pd.DataFrame(X_twisted, columns=columns_).assign(Audit_Risk = data_test_clean.Audit_Risk.values).corr().abs().style.background_gradient(cmap='coolwarm')"
   ]
  },
  {
   "cell_type": "code",
   "execution_count": 773,
   "metadata": {},
   "outputs": [
    {
     "data": {
      "text/html": [
       "<style type=\"text/css\">\n",
       "#T_870ab_row0_col0, #T_870ab_row1_col1, #T_870ab_row2_col2 {\n",
       "  background-color: #b40426;\n",
       "  color: #f1f1f1;\n",
       "}\n",
       "#T_870ab_row0_col1, #T_870ab_row0_col2, #T_870ab_row2_col0 {\n",
       "  background-color: #3b4cc0;\n",
       "  color: #f1f1f1;\n",
       "}\n",
       "#T_870ab_row1_col0 {\n",
       "  background-color: #adc9fd;\n",
       "  color: #000000;\n",
       "}\n",
       "#T_870ab_row1_col2 {\n",
       "  background-color: #f18f71;\n",
       "  color: #f1f1f1;\n",
       "}\n",
       "#T_870ab_row2_col1 {\n",
       "  background-color: #f7ba9f;\n",
       "  color: #000000;\n",
       "}\n",
       "</style>\n",
       "<table id=\"T_870ab\">\n",
       "  <thead>\n",
       "    <tr>\n",
       "      <th class=\"blank level0\" >&nbsp;</th>\n",
       "      <th id=\"T_870ab_level0_col0\" class=\"col_heading level0 col0\" >PARA_B</th>\n",
       "      <th id=\"T_870ab_level0_col1\" class=\"col_heading level0 col1\" >Inherent_Risk</th>\n",
       "      <th id=\"T_870ab_level0_col2\" class=\"col_heading level0 col2\" >Audit_Risk</th>\n",
       "    </tr>\n",
       "  </thead>\n",
       "  <tbody>\n",
       "    <tr>\n",
       "      <th id=\"T_870ab_level0_row0\" class=\"row_heading level0 row0\" >PARA_B</th>\n",
       "      <td id=\"T_870ab_row0_col0\" class=\"data row0 col0\" >1.000000</td>\n",
       "      <td id=\"T_870ab_row0_col1\" class=\"data row0 col1\" >0.867016</td>\n",
       "      <td id=\"T_870ab_row0_col2\" class=\"data row0 col2\" >0.797375</td>\n",
       "    </tr>\n",
       "    <tr>\n",
       "      <th id=\"T_870ab_level0_row1\" class=\"row_heading level0 row1\" >Inherent_Risk</th>\n",
       "      <td id=\"T_870ab_row1_col0\" class=\"data row1 col0\" >0.867016</td>\n",
       "      <td id=\"T_870ab_row1_col1\" class=\"data row1 col1\" >1.000000</td>\n",
       "      <td id=\"T_870ab_row1_col2\" class=\"data row1 col2\" >0.954371</td>\n",
       "    </tr>\n",
       "    <tr>\n",
       "      <th id=\"T_870ab_level0_row2\" class=\"row_heading level0 row2\" >Audit_Risk</th>\n",
       "      <td id=\"T_870ab_row2_col0\" class=\"data row2 col0\" >0.797375</td>\n",
       "      <td id=\"T_870ab_row2_col1\" class=\"data row2 col1\" >0.954371</td>\n",
       "      <td id=\"T_870ab_row2_col2\" class=\"data row2 col2\" >1.000000</td>\n",
       "    </tr>\n",
       "  </tbody>\n",
       "</table>\n"
      ],
      "text/plain": [
       "<pandas.io.formats.style.Styler at 0x201d3876280>"
      ]
     },
     "execution_count": 773,
     "metadata": {},
     "output_type": "execute_result"
    }
   ],
   "source": [
    "data_train_clean.corr().abs().style.background_gradient(cmap='coolwarm')"
   ]
  },
  {
   "cell_type": "code",
   "execution_count": 555,
   "metadata": {},
   "outputs": [],
   "source": [
    "# y_pred.flatten()"
   ]
  },
  {
   "cell_type": "code",
   "execution_count": null,
   "metadata": {},
   "outputs": [],
   "source": []
  }
 ],
 "metadata": {
  "kernelspec": {
   "display_name": "Python 3",
   "language": "python",
   "name": "python3"
  },
  "language_info": {
   "codemirror_mode": {
    "name": "ipython",
    "version": 3
   },
   "file_extension": ".py",
   "mimetype": "text/x-python",
   "name": "python",
   "nbconvert_exporter": "python",
   "pygments_lexer": "ipython3",
   "version": "3.9.13"
  },
  "orig_nbformat": 4
 },
 "nbformat": 4,
 "nbformat_minor": 2
}
