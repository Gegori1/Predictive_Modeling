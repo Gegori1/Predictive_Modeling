{
 "cells": [
  {
   "cell_type": "markdown",
   "metadata": {},
   "source": [
    "### Import libraries"
   ]
  },
  {
   "cell_type": "code",
   "execution_count": 1,
   "metadata": {},
   "outputs": [],
   "source": [
    "import matplotlib.pyplot as plt\n",
    "from pathlib import Path\n",
    "import json\n",
    "\n",
    "import pandas as pd\n",
    "import numpy as np\n",
    "from sklearn.preprocessing import StandardScaler\n",
    "from sklearn.model_selection import train_test_split, cross_validate\n",
    "\n",
    "from sklearn.metrics import r2_score\n",
    "                                                                                                                                                                                          \n",
    "from bayes_opt.event import Events\n",
    "from Utils import newBayesianOptimization, newJSONLogger"
   ]
  },
  {
   "cell_type": "code",
   "execution_count": 2,
   "metadata": {},
   "outputs": [],
   "source": [
    "# modelos\n",
    "from sklearn.svm import SVR"
   ]
  },
  {
   "cell_type": "markdown",
   "metadata": {},
   "source": [
    "### Import data"
   ]
  },
  {
   "cell_type": "code",
   "execution_count": 4,
   "metadata": {},
   "outputs": [],
   "source": [
    "path_to_file = Path().resolve().parent / \"Data\" / \"datos edgar.xlsx\"\n",
    "\n",
    "data = (\n",
    "    pd.read_excel(path_to_file, header=1)\n",
    "    .dropna(how=\"all\")\n",
    "    [['espAl2O3','espSiO2','R (1)','Lambda']]\n",
    "    .iloc[4:]\n",
    "    .query(\"Lambda >= 580 and Lambda <= 620\")\n",
    ")"
   ]
  },
  {
   "cell_type": "code",
   "execution_count": 34,
   "metadata": {},
   "outputs": [],
   "source": [
    "X = data[['espAl2O3', 'espSiO2', 'Lambda']]\n",
    "\n",
    "y = data[['R (1)']]\n",
    "\n",
    "# Split data into training and test sets\n",
    "X_train, X_test, Y_train, Y_test = train_test_split(\n",
    "    X,\n",
    "    y,\n",
    "    test_size=0.3,\n",
    "    random_state=0\n",
    ")\n",
    "\n",
    "Y_train_ravel = Y_train.values.ravel()\n",
    "Y_test_ravel = Y_test.values.ravel()"
   ]
  },
  {
   "cell_type": "code",
   "execution_count": 35,
   "metadata": {},
   "outputs": [],
   "source": [
    "# scaler\n",
    "scaler = StandardScaler()\n",
    "scaler.set_output(transform=\"pandas\")\n",
    "\n",
    "X_train = scaler.fit_transform(X_train)\n",
    "X_test = scaler.transform(X_test)"
   ]
  },
  {
   "cell_type": "code",
   "execution_count": 36,
   "metadata": {},
   "outputs": [],
   "source": [
    "def opt_bas(C, epsilon, gamma):\n",
    "    \n",
    "    # parameters\n",
    "    hyperparameters = {\n",
    "        'kernel' : \"rbf\",\n",
    "        'C' : C,\n",
    "        'epsilon': epsilon,\n",
    "        'gamma' : gamma,\n",
    "    }\n",
    "    \n",
    "    # fit cross validation\n",
    "    model = SVR(**hyperparameters)\n",
    "    cv = cross_validate(model, X_train, Y_train_ravel, cv=5, scoring=\"r2\")\n",
    "    cv_score = cv['test_score'].mean()\n",
    "\n",
    "    # fit and predict test\n",
    "    model = SVR(**hyperparameters).fit(X_train, Y_train_ravel)\n",
    "    Y_pred = model.predict(X_test)\n",
    "    r2 = r2_score(Y_test_ravel, Y_pred)\n",
    "\n",
    "    return 2*r2 + cv_score"
   ]
  },
  {
   "cell_type": "markdown",
   "metadata": {},
   "source": [
    "### Run optimization"
   ]
  },
  {
   "cell_type": "code",
   "execution_count": 43,
   "metadata": {},
   "outputs": [],
   "source": [
    "# Bounded region of parameter space\n",
    "pbounds = {'C': (30, 500), 'epsilon': (0.001, 0.07),  'gamma': (0.2, 0.7)}\n",
    "\n",
    "# Bayes optimizer instantiation\n",
    "optimizer = newBayesianOptimization(\n",
    "    f=opt_bas, \n",
    "    pbounds=pbounds, \n",
    "    random_state=1, \n",
    "    verbose=2,\n",
    ")\n",
    "\n",
    "# keep data\n",
    "log_path = Path().resolve() / \"Logs\" / \"svr.jsonl\"\n",
    "logger = newJSONLogger(path = str(log_path))\n",
    "optimizer.subscribe(Events.OPTIMIZATION_STEP, logger)"
   ]
  },
  {
   "cell_type": "code",
   "execution_count": 38,
   "metadata": {},
   "outputs": [],
   "source": [
    "# optimizer.res"
   ]
  },
  {
   "cell_type": "code",
   "execution_count": null,
   "metadata": {},
   "outputs": [],
   "source": [
    "# get all the current parameters of the model\n",
    "optimizer.load_previous(log_path)"
   ]
  },
  {
   "cell_type": "code",
   "execution_count": null,
   "metadata": {},
   "outputs": [],
   "source": [
    "optimizer.maximize(init_points=6, n_iter=500)"
   ]
  },
  {
   "cell_type": "code",
   "execution_count": null,
   "metadata": {},
   "outputs": [],
   "source": []
  }
 ],
 "metadata": {
  "kernelspec": {
   "display_name": "Python 3",
   "language": "python",
   "name": "python3"
  },
  "language_info": {
   "codemirror_mode": {
    "name": "ipython",
    "version": 3
   },
   "file_extension": ".py",
   "mimetype": "text/x-python",
   "name": "python",
   "nbconvert_exporter": "python",
   "pygments_lexer": "ipython3",
   "version": "3.10.8"
  },
  "orig_nbformat": 4
 },
 "nbformat": 4,
 "nbformat_minor": 2
}
