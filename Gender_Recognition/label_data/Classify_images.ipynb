{
  "nbformat": 4,
  "nbformat_minor": 0,
  "metadata": {
    "colab": {
      "provenance": []
    },
    "kernelspec": {
      "name": "python3",
      "display_name": "Python 3"
    },
    "language_info": {
      "name": "python"
    }
  },
  "cells": [
    {
      "cell_type": "code",
      "execution_count": null,
      "metadata": {
        "id": "MNKhi804PTez"
      },
      "outputs": [],
      "source": [
        "import os\n",
        "import shutil\n",
        "import re\n",
        "\n",
        "import numpy as np\n",
        "\n",
        "from google.colab import drive"
      ]
    },
    {
      "cell_type": "code",
      "source": [
        "drive.mount(\"/content/drive\")"
      ],
      "metadata": {
        "colab": {
          "base_uri": "https://localhost:8080/"
        },
        "id": "DeZrp3shQaFW",
        "outputId": "f2115172-08c3-4e73-b3a6-284f4f7b69d6"
      },
      "execution_count": null,
      "outputs": [
        {
          "output_type": "stream",
          "name": "stdout",
          "text": [
            "Mounted at /content/drive\n"
          ]
        }
      ]
    },
    {
      "cell_type": "code",
      "source": [
        "path_to_data = \"/content/drive/MyDrive/Images_face_classificator/\"\n",
        "path_AMFD = path_to_data + \"AMFD Faces Final/\"\n",
        "path_Humans = path_to_data + \"Humans/\"\n",
        "path_males = path_to_data + \"data/Male/\"\n",
        "path_females = path_to_data + \"data/Female/\"\n",
        "path_test_f = path_to_data + \"data/Test_Female/\"\n",
        "path_test_m = path_to_data + \"data/Test_Male/\""
      ],
      "metadata": {
        "id": "kfWW0-3HQAK6"
      },
      "execution_count": null,
      "outputs": []
    },
    {
      "cell_type": "code",
      "source": [],
      "metadata": {
        "id": "8rE5J2EZZ1mm"
      },
      "execution_count": null,
      "outputs": []
    },
    {
      "cell_type": "code",
      "source": [
        "amfd_f = [f for f in os.listdir(path_AMFD) if re.match('\\w(F)-.*.jpg$', f)]\n",
        "amfd_m = [f for f in os.listdir(path_AMFD) if re.match('\\w(M)-.*.jpg$', f)]"
      ],
      "metadata": {
        "id": "WG4atB2BRF2y"
      },
      "execution_count": null,
      "outputs": []
    },
    {
      "cell_type": "code",
      "source": [
        "humans_f = [f for f in os.listdir(path_Humans) if re.match('female.*', f)]\n",
        "humans_m = [f for f in os.listdir(path_Humans) if re.match('male.*', f)]"
      ],
      "metadata": {
        "id": "Kvdfvxm-RV9F"
      },
      "execution_count": null,
      "outputs": []
    },
    {
      "cell_type": "code",
      "source": [
        "len(amfd_f), len(amfd_m), len(humans_f), len(humans_m)"
      ],
      "metadata": {
        "colab": {
          "base_uri": "https://localhost:8080/"
        },
        "id": "zdRjchjo1qb_",
        "outputId": "5087223f-f09b-4c3d-cfd9-a64f783bc9f7"
      },
      "execution_count": null,
      "outputs": [
        {
          "output_type": "execute_result",
          "data": {
            "text/plain": [
              "(179, 40, 575, 478)"
            ]
          },
          "metadata": {},
          "execution_count": 7
        }
      ]
    },
    {
      "cell_type": "code",
      "source": [
        "### Copy images"
      ],
      "metadata": {
        "id": "r-eoVonXSbGQ"
      },
      "execution_count": null,
      "outputs": []
    },
    {
      "cell_type": "code",
      "source": [
        "for i in amfd_f:\n",
        "  shutil.copyfile(os.path.join(path_AMFD, i), os.path.join(path_females, i))\n",
        "for i in amfd_m:\n",
        "  shutil.copyfile(os.path.join(path_AMFD, i), os.path.join(path_males, i))\n",
        "for i in humans_f:\n",
        "  shutil.copyfile(os.path.join(path_Humans, i), os.path.join(path_females, i))\n",
        "for i in humans_m:\n",
        "  shutil.copyfile(os.path.join(path_Humans, i), os.path.join(path_males, i))\n"
      ],
      "metadata": {
        "id": "0GrWOpzUTqeq"
      },
      "execution_count": null,
      "outputs": []
    },
    {
      "cell_type": "code",
      "source": [
        "data_f = os.listdir(path_females)\n",
        "data_m = os.listdir(path_males)"
      ],
      "metadata": {
        "id": "VdtJIUybV5qZ"
      },
      "execution_count": null,
      "outputs": []
    },
    {
      "cell_type": "code",
      "source": [
        "len(data_f), len(data_m)"
      ],
      "metadata": {
        "colab": {
          "base_uri": "https://localhost:8080/"
        },
        "id": "YLiu-Ur25ANg",
        "outputId": "432c5f0e-fc5e-4b16-991c-53357ba40e10"
      },
      "execution_count": null,
      "outputs": [
        {
          "output_type": "execute_result",
          "data": {
            "text/plain": [
              "(754, 518)"
            ]
          },
          "metadata": {},
          "execution_count": 8
        }
      ]
    },
    {
      "cell_type": "code",
      "source": [
        "### Create test and move"
      ],
      "metadata": {
        "id": "CjtdhQoCvn1a"
      },
      "execution_count": null,
      "outputs": []
    },
    {
      "cell_type": "code",
      "source": [
        "len(os.listdir(path_test_m))"
      ],
      "metadata": {
        "colab": {
          "base_uri": "https://localhost:8080/"
        },
        "id": "jRvrfG2m5LUw",
        "outputId": "89c40490-5908-48d6-cc44-2b0efd2dc481"
      },
      "execution_count": null,
      "outputs": [
        {
          "output_type": "execute_result",
          "data": {
            "text/plain": [
              "100"
            ]
          },
          "metadata": {},
          "execution_count": 13
        }
      ]
    },
    {
      "cell_type": "code",
      "source": [
        "# prompt: get 100 random files from path_female and move them to path_test_f. do the same for the males\n",
        "test_f = np.random.choice(data_f, 100, replace=False)\n",
        "test_m = np.random.choice(data_m, 100, replace=False)\n",
        "for i in test_f:\n",
        "  shutil.move(os.path.join(path_females, i), os.path.join(path_test_f, i))\n",
        "for i in test_m:\n",
        "  shutil.move(os.path.join(path_males, i), os.path.join(path_test_m, i))\n"
      ],
      "metadata": {
        "id": "nvAUTc7svsDM"
      },
      "execution_count": null,
      "outputs": []
    },
    {
      "cell_type": "code",
      "source": [],
      "metadata": {
        "id": "hIC4UFDByYD2"
      },
      "execution_count": null,
      "outputs": []
    }
  ]
}